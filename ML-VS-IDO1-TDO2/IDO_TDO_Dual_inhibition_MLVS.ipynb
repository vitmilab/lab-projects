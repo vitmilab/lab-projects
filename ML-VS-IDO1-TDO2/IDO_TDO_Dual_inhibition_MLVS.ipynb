{
 "cells": [
  {
   "cell_type": "markdown",
   "id": "6fbdf687",
   "metadata": {},
   "source": [
    "# Classification of IDO/TDO Activity\n",
    "Classification of compounds based on IDO and TDO activity using multiple machine learning models.\n",
    "\n",
    "## Overview\n",
    "- Load preprocessed activity data\n",
    "- Create multiclass labels (AA, AI, IA, II)\n",
    "- Train and compare ML models\n",
    "- Evaluate classification performance\n",
    "- Screen the database with the outperforming model"
   ]
  },
  {
   "cell_type": "markdown",
   "id": "85c8214c",
   "metadata": {},
   "source": [
    "##  Load Dataset and Libraries"
   ]
  },
  {
   "cell_type": "code",
   "execution_count": null,
   "id": "fce2d47d",
   "metadata": {},
   "outputs": [],
   "source": [
    "from sklearn.metrics import accuracy_score, confusion_matrix, classification_report\n",
    "from sklearn.linear_model import LogisticRegression\n",
    "from sklearn.ensemble import RandomForestClassifier\n",
    "from sklearn import svm\n",
    "from sklearn.tree import DecisionTreeClassifier\n",
    "from xgboost import XGBClassifier\n",
    "from sklearn.naive_bayes import GaussianNB\n",
    "from sklearn.neural_network import MLPClassifier\n",
    "from sklearn.model_selection import GridSearchCV\n",
    "from sklearn import metrics\n",
    "import warnings\n",
    "warnings.filterwarnings('ignore')\n",
    "import numpy as np\n",
    "import pandas as pd\n",
    "import optuna\n",
    "import seaborn as sns\n",
    "from sklearn.model_selection import train_test_split\n",
    "from sklearn.model_selection import KFold\n",
    "from sklearn.metrics import mean_squared_error\n",
    "from matplotlib import pyplot as plt"
   ]
  },
  {
   "cell_type": "code",
   "execution_count": null,
   "id": "2598b09b",
   "metadata": {},
   "outputs": [],
   "source": [
    "df_multinominal = pd.read_csv('1_input_multinominal.csv')\n",
    "df_multinominal.drop(['Smiles'],axis=1, inplace= True)\n",
    "df_multinominal.head"
   ]
  },
  {
   "cell_type": "markdown",
   "id": "a32c573c",
   "metadata": {},
   "source": [
    "## Generate Multi-Class Target"
   ]
  },
  {
   "cell_type": "code",
   "execution_count": null,
   "id": "4288ffbd",
   "metadata": {},
   "outputs": [],
   "source": [
    "# Define a function to determine the target based on IDO_pic50 and TDO_pic50\n",
    "def determine_target(row):\n",
    "    if row[\"IDO_pic50\"] == \"Active\" and row[\"TDO_pic50\"] == \"Active\":\n",
    "        return \"AA\"\n",
    "    elif row[\"IDO_pic50\"] == \"Active\" and row[\"TDO_pic50\"] == \"Inactive\":\n",
    "        return \"AI\"\n",
    "    elif row[\"IDO_pic50\"] == \"Inactive\" and row[\"TDO_pic50\"] == \"Active\":\n",
    "        return \"IA\"\n",
    "    else:\n",
    "        return \"II\""
   ]
  },
  {
   "cell_type": "code",
   "execution_count": null,
   "id": "36aba352",
   "metadata": {},
   "outputs": [],
   "source": [
    "# Apply the function to create a new 'Target' column\n",
    "df_multinominal[\"Target\"] = df_multinominal.apply(determine_target, axis=1)\n",
    "df_multinominal.head"
   ]
  },
  {
   "cell_type": "code",
   "execution_count": null,
   "id": "112dab3c",
   "metadata": {},
   "outputs": [],
   "source": [
    "# Save the modified DataFrame to a new CSV file\n",
    "df_multinominal.to_csv(\"multinominal_output_file.csv\", index=False)"
   ]
  },
  {
   "cell_type": "code",
   "execution_count": null,
   "id": "b97b8b39",
   "metadata": {},
   "outputs": [],
   "source": [
    "#Now that we have saved the output from the multinomial model (`multinominal_output_file.csv`), we proceed to load the PaDEL-generated molecular descriptors and fingerprints for the same set of compounds. These features will be used for further analysis."
   ]
  },
  {
   "cell_type": "markdown",
   "id": "13f32f65",
   "metadata": {},
   "source": [
    "# Data Preprocessing"
   ]
  },
  {
   "cell_type": "markdown",
   "id": "156f4d48",
   "metadata": {},
   "source": [
    "# Sum and Variance "
   ]
  },
  {
   "cell_type": "code",
   "execution_count": null,
   "id": "bb9c168a",
   "metadata": {
    "scrolled": true
   },
   "outputs": [],
   "source": [
    "df_All_features = pd.read_csv('2_All_features.csv')\n",
    "df_All_features.head()"
   ]
  },
  {
   "cell_type": "code",
   "execution_count": null,
   "id": "9c377592",
   "metadata": {},
   "outputs": [],
   "source": [
    "df_All_features.shape"
   ]
  },
  {
   "cell_type": "code",
   "execution_count": null,
   "id": "1f59c5a7",
   "metadata": {
    "scrolled": false
   },
   "outputs": [],
   "source": [
    "df_All_features.drop(['Smiles', 'Name'],axis=1, inplace= True)\n",
    "df_All_features.head()"
   ]
  },
  {
   "cell_type": "code",
   "execution_count": null,
   "id": "40be427e",
   "metadata": {},
   "outputs": [],
   "source": [
    "# Remove columns with sum = 0\n",
    "df_1 = df_All_features.loc[:, df_All_features.sum() != 0]\n",
    "\n",
    "# Display the modified DataFrame\n",
    "df_1.head()"
   ]
  },
  {
   "cell_type": "code",
   "execution_count": null,
   "id": "e586547c",
   "metadata": {
    "scrolled": true
   },
   "outputs": [],
   "source": [
    "# Remove columns with variance < 0.05\n",
    "df_2 = df_1.loc[:, df_1.var() >= 0.05]\n",
    "\n",
    "# Display the modified DataFrame\n",
    "df_2.head()"
   ]
  },
  {
   "cell_type": "code",
   "execution_count": null,
   "id": "ac100433",
   "metadata": {},
   "outputs": [],
   "source": [
    "df_2.info()"
   ]
  },
  {
   "cell_type": "code",
   "execution_count": null,
   "id": "5b282da4",
   "metadata": {
    "scrolled": true
   },
   "outputs": [],
   "source": [
    "df_2.head()"
   ]
  },
  {
   "cell_type": "markdown",
   "id": "b51b3c74",
   "metadata": {},
   "source": [
    "# Split the dataset into training and testing and load the training set"
   ]
  },
  {
   "cell_type": "code",
   "execution_count": null,
   "id": "c5ecbc1c",
   "metadata": {},
   "outputs": [],
   "source": [
    "import pandas as pd\n",
    "import numpy as np\n",
    "from imblearn.over_sampling import SMOTE\n",
    "from sklearn.model_selection import train_test_split\n",
    "\n",
    "# Load dataset\n",
    "df = pd.read_csv('3_training_set.csv')\n",
    "\n",
    "# ---- Step 1: Check missing values ----\n",
    "percent_missing = df.isnull().sum() * 100 / len(df)\n",
    "print(\"Missing value percentage by column:\")\n",
    "print(percent_missing[percent_missing > 0])\n",
    "\n",
    "# ---- Step 2: Drop columns with >50% missing ----\n",
    "df = df.drop(columns=percent_missing[percent_missing > 50].index)\n",
    "\n",
    "# ---- Step 3: Fill remaining missing values (mean imputation for numerical) ----\n",
    "df = df.fillna(df.mean(numeric_only=True))\n",
    "\n",
    "# ---- Step 4: Define X and y ----\n",
    "X = df.drop(columns=['Smiles', 'Activity'], errors='ignore')\n",
    "y = df['Activity']\n",
    "\n",
    "# ---- Step 5: Confirm no missing values ----\n",
    "assert X.isnull().sum().sum() == 0, \"There are still missing values in X\"\n",
    "print(\"No missing values remain after imputation.\")\n",
    "\n",
    "# ---- Step 6: Class distribution before SMOTE ----\n",
    "print(f'Class distribution before oversampling: total={len(y)}, class 0={sum(y==0)}, class 1={sum(y==1)}')\n",
    "\n",
    "# ---- Step 7: Apply SMOTE ----\n",
    "smote = SMOTE(sampling_strategy='auto', random_state=42)\n",
    "X_resampled, y_resampled = smote.fit_resample(X, y)\n",
    "\n",
    "print(f'Class distribution after SMOTE: total={len(y_resampled)}, class 0={sum(y_resampled==0)}, class 1={sum(y_resampled==1)}')\n"
   ]
  },
  {
   "cell_type": "code",
   "execution_count": null,
   "id": "8a815651",
   "metadata": {},
   "outputs": [],
   "source": [
    "# ============================================================\n",
    "# Missing Data Diagnostics (Mean Imputation Bias Check)\n",
    "# ============================================================\n",
    "\n",
    "from sklearn.impute import SimpleImputer, KNNImputer\n",
    "from sklearn.ensemble import RandomForestClassifier\n",
    "from sklearn.model_selection import cross_val_score, KFold\n",
    "from scipy.stats import ks_2samp\n",
    "\n",
    "# Re-load data (for diagnostics on original dataset)\n",
    "df = pd.read_csv('3_training_set.csv')\n",
    "num_cols = df.select_dtypes(include=[np.number]).columns\n",
    "\n",
    "# ---- Step 1: Mean Imputation ----\n",
    "imp_mean = SimpleImputer(strategy='mean')\n",
    "X_mean = pd.DataFrame(imp_mean.fit_transform(df[num_cols]), columns=num_cols)\n",
    "\n",
    "# ---- Step 2: Kolmogorov–Smirnov (KS) test: observed vs imputed distributions ----\n",
    "shifted_cols = []\n",
    "for col in num_cols:\n",
    "    observed = df[col].dropna()\n",
    "    if len(observed) > 10:\n",
    "        ks_stat, ks_p = ks_2samp(observed, X_mean[col])\n",
    "        if ks_p < 0.05:\n",
    "            shifted_cols.append(col)\n",
    "print(f\"Descriptors showing potential minor distribution shift after mean imputation: {len(shifted_cols)}\")\n",
    "\n",
    "# ---- Step 3: Compare model performance with mean, median, and KNN imputation ----\n",
    "y = df['Activity']\n",
    "X = df[num_cols]\n",
    "cv = KFold(5, shuffle=True, random_state=42)\n",
    "\n",
    "imputers = {\n",
    "    'mean': SimpleImputer(strategy='mean'),\n",
    "    'median': SimpleImputer(strategy='median'),\n",
    "    'knn': KNNImputer(n_neighbors=5)\n",
    "}\n",
    "\n",
    "for name, imputer in imputers.items():\n",
    "    X_imp = imputer.fit_transform(X)\n",
    "    model = RandomForestClassifier(random_state=42)\n",
    "    scores = cross_val_score(model, X_imp, y, cv=cv, scoring='accuracy')\n",
    "    print(f\"{name} imputer: mean CV accuracy = {scores.mean():.3f} ± {scores.std():.3f}\")\n",
    "\n",
    "\n",
    "# ============================================================\n",
    "# Save Processed Dataset\n",
    "# ============================================================\n",
    "\n",
    "df_resampled = pd.DataFrame(X_resampled, columns=X.columns)\n",
    "df_resampled['Activity'] = y_resampled\n",
    "df_resampled.to_csv('train_All_features_missing_val_resampled_data.csv', index=False)\n",
    "print(\"Resampled data saved to 'train_All_features_missing_val_resampled_data.csv'.\")\n"
   ]
  },
  {
   "cell_type": "code",
   "execution_count": null,
   "id": "50b2c80e",
   "metadata": {},
   "outputs": [],
   "source": [
    "# ============================================================\n",
    "# PCA Visualization (Chemical Space Overlap)\n",
    "# ============================================================\n",
    "\n",
    "import matplotlib.pyplot as plt\n",
    "from sklearn.preprocessing import StandardScaler\n",
    "from sklearn.decomposition import PCA\n",
    "\n",
    "scaler = StandardScaler()\n",
    "X_scaled = scaler.fit_transform(X_resampled)\n",
    "\n",
    "pca = PCA(n_components=2)\n",
    "X_pca = pca.fit_transform(X_scaled)\n",
    "\n",
    "# Determine index split for visualization\n",
    "n_real = len(X)\n",
    "plt.figure(figsize=(8,6))\n",
    "plt.scatter(X_pca[:n_real, 0], X_pca[:n_real, 1], label='Real', alpha=0.5)\n",
    "plt.scatter(X_pca[n_real:, 0], X_pca[n_real:, 1], label='Synthetic (SMOTE)', alpha=0.5)\n",
    "plt.xlabel('PC1')\n",
    "plt.ylabel('PC2')\n",
    "plt.title('PCA: Real vs SMOTE Synthetic Samples')\n",
    "plt.legend()\n",
    "plt.tight_layout()\n",
    "plt.show()"
   ]
  },
  {
   "cell_type": "code",
   "execution_count": null,
   "id": "dab9475a",
   "metadata": {},
   "outputs": [],
   "source": [
    "X_1 = X_resampled\n",
    "y_1 = y_resampled"
   ]
  },
  {
   "cell_type": "code",
   "execution_count": null,
   "id": "edc26d25",
   "metadata": {},
   "outputs": [],
   "source": [
    "# Train-test split\n",
    "X_1_train, X_1_test, y_1_train, y_1_test = train_test_split(X_1, y_1, test_size=0.2, random_state=42)"
   ]
  },
  {
   "cell_type": "code",
   "execution_count": null,
   "id": "477dda62",
   "metadata": {},
   "outputs": [],
   "source": [
    "# Display a confirmation\n",
    "print(f\"Training samples: {len(X_1_train)}, Testing samples: {len(X_1_test)}\")"
   ]
  },
  {
   "cell_type": "markdown",
   "id": "46046637",
   "metadata": {},
   "source": [
    "# Model development with all features"
   ]
  },
  {
   "cell_type": "markdown",
   "id": "afebc0fa",
   "metadata": {},
   "source": [
    "# XGB"
   ]
  },
  {
   "cell_type": "code",
   "execution_count": null,
   "id": "a1a0ff8f",
   "metadata": {},
   "outputs": [],
   "source": [
    "from sklearn.metrics import accuracy_score, confusion_matrix, classification_report\n",
    "from sklearn.linear_model import LogisticRegression\n",
    "from sklearn.ensemble import RandomForestClassifier\n",
    "from sklearn import svm\n",
    "from sklearn.tree import DecisionTreeClassifier\n",
    "from xgboost import XGBClassifier\n",
    "from sklearn.naive_bayes import GaussianNB\n",
    "from sklearn.neural_network import MLPClassifier\n",
    "from pathlib import Path\n",
    "from warnings import filterwarnings\n",
    "import time\n",
    "from matplotlib import pyplot as plt \n",
    "from sklearn import svm, metrics\n",
    "from sklearn.metrics import accuracy_score, confusion_matrix, classification_report, auc, recall_score\n",
    "from sklearn.metrics import roc_curve, roc_auc_score\n",
    "from sklearn.model_selection import KFold, train_test_split\n",
    "from sklearn.model_selection import StratifiedKFold\n",
    "from sklearn.feature_selection import RFECV\n",
    "from xgboost import XGBClassifier\n",
    "import matplotlib.pyplot as plt\n",
    "from numpy import mean\n",
    "from numpy import std\n",
    "from sklearn.model_selection import cross_val_score\n",
    "from sklearn.pipeline import make_pipeline\n",
    "from sklearn.preprocessing import StandardScaler\n",
    "from sklearn.preprocessing import MinMaxScaler"
   ]
  },
  {
   "cell_type": "code",
   "execution_count": null,
   "id": "2fdcd460",
   "metadata": {},
   "outputs": [],
   "source": [
    "import xgboost as xgb\n",
    "xg = xgb.XGBClassifier()\n",
    "xg.fit(X_1_train, y_1_train)"
   ]
  },
  {
   "cell_type": "code",
   "execution_count": null,
   "id": "87ce7eaf",
   "metadata": {
    "scrolled": true
   },
   "outputs": [],
   "source": [
    "xg_predict = xg.predict(X_1_test)\n",
    "print('Accuracy_score=',(accuracy_score(y_1_test, xg_predict)))\n",
    "print((confusion_matrix(y_1_test,xg_predict)))\n",
    "print(classification_report(y_1_test, xg_predict))\n",
    "pd.crosstab(y_1_test, xg_predict)"
   ]
  },
  {
   "cell_type": "markdown",
   "id": "1d4b7e0f",
   "metadata": {},
   "source": [
    "# Logistic Regression"
   ]
  },
  {
   "cell_type": "code",
   "execution_count": null,
   "id": "f4b02417",
   "metadata": {},
   "outputs": [],
   "source": [
    "from sklearn.linear_model import LogisticRegression\n",
    "\n",
    "LR = LogisticRegression()\n",
    "LR.fit(X_1_train, y_1_train)"
   ]
  },
  {
   "cell_type": "code",
   "execution_count": null,
   "id": "179f1358",
   "metadata": {},
   "outputs": [],
   "source": [
    "LR_predict = LR.predict(X_1_test)"
   ]
  },
  {
   "cell_type": "code",
   "execution_count": null,
   "id": "07d064bd",
   "metadata": {
    "scrolled": false
   },
   "outputs": [],
   "source": [
    "print('Accuracy_score=',(accuracy_score(y_1_test, LR_predict)))\n",
    "print((confusion_matrix(y_1_test, LR_predict)))\n",
    "print(classification_report(y_1_test, LR_predict))\n",
    "pd.crosstab(y_1_test, LR_predict)"
   ]
  },
  {
   "cell_type": "markdown",
   "id": "32e32fa2",
   "metadata": {},
   "source": [
    "# SVM"
   ]
  },
  {
   "cell_type": "code",
   "execution_count": null,
   "id": "f5e54dcc",
   "metadata": {},
   "outputs": [],
   "source": [
    "from sklearn.svm import SVC\n",
    "from sklearn.model_selection import KFold, cross_val_score\n",
    "SV = SVC()\n",
    "SV.fit(X_1_train, y_1_train)"
   ]
  },
  {
   "cell_type": "code",
   "execution_count": null,
   "id": "17a7b0d9",
   "metadata": {},
   "outputs": [],
   "source": [
    "svm = SV.predict(X_1_test)"
   ]
  },
  {
   "cell_type": "code",
   "execution_count": null,
   "id": "cdb11728",
   "metadata": {
    "scrolled": true
   },
   "outputs": [],
   "source": [
    "print(\"Accuracy:\",accuracy_score(y_1_test, svm))\n",
    "print((confusion_matrix(y_1_test, svm)))\n",
    "print(classification_report(y_1_test, svm))\n",
    "pd.crosstab(y_1_test, svm)"
   ]
  },
  {
   "cell_type": "markdown",
   "id": "00cbee48",
   "metadata": {},
   "source": [
    "# RF"
   ]
  },
  {
   "cell_type": "code",
   "execution_count": null,
   "id": "a8cf9bd5",
   "metadata": {},
   "outputs": [],
   "source": [
    "from sklearn.metrics import accuracy_score, confusion_matrix, classification_report\n",
    "from sklearn.linear_model import LogisticRegression\n",
    "from sklearn.ensemble import RandomForestClassifier\n",
    "from sklearn import svm\n",
    "from sklearn.tree import DecisionTreeClassifier\n",
    "from xgboost import XGBClassifier\n",
    "from sklearn.naive_bayes import GaussianNB\n",
    "from sklearn.neural_network import MLPClassifier"
   ]
  },
  {
   "cell_type": "code",
   "execution_count": null,
   "id": "eaa203b0",
   "metadata": {},
   "outputs": [],
   "source": [
    "RF = RandomForestClassifier(random_state = 42)\n",
    "RF.fit(X_1_train, y_1_train)"
   ]
  },
  {
   "cell_type": "code",
   "execution_count": null,
   "id": "eabb2996",
   "metadata": {},
   "outputs": [],
   "source": [
    "RF_pred = RF.predict(X_1_test)\n",
    "accuracy_score(y_1_test, RF_pred)"
   ]
  },
  {
   "cell_type": "code",
   "execution_count": null,
   "id": "ed3f56af",
   "metadata": {},
   "outputs": [],
   "source": [
    "from sklearn.metrics import confusion_matrix\n",
    "\n",
    "print('Accuracy_score=',(accuracy_score(y_1_test, RF_pred)))\n",
    "print(confusion_matrix(y_1_test, RF_pred))\n",
    "print(classification_report(y_1_test, RF_pred))\n",
    "pd.crosstab(y_1_test, RF_pred)"
   ]
  },
  {
   "cell_type": "markdown",
   "id": "636f886b",
   "metadata": {},
   "source": [
    "# DT"
   ]
  },
  {
   "cell_type": "code",
   "execution_count": null,
   "id": "99f65795",
   "metadata": {},
   "outputs": [],
   "source": [
    "DT = DecisionTreeClassifier(random_state=42)\n",
    "DT.fit(X_1_train, y_1_train)"
   ]
  },
  {
   "cell_type": "code",
   "execution_count": null,
   "id": "465783f0",
   "metadata": {},
   "outputs": [],
   "source": [
    "DT_predict = DT.predict(X_1_test)\n",
    "print('Accuracy_score=',(accuracy_score(y_1_test, DT_predict)))\n",
    "print((confusion_matrix(y_1_test, DT_predict)))"
   ]
  },
  {
   "cell_type": "code",
   "execution_count": null,
   "id": "374dde78",
   "metadata": {},
   "outputs": [],
   "source": [
    "print(classification_report(y_1_test, DT_predict))\n",
    "pd.crosstab(y_1_test, DT_predict)"
   ]
  },
  {
   "cell_type": "markdown",
   "id": "368985b2",
   "metadata": {},
   "source": [
    "# NB"
   ]
  },
  {
   "cell_type": "code",
   "execution_count": null,
   "id": "d47df811",
   "metadata": {
    "scrolled": true
   },
   "outputs": [],
   "source": [
    "NB = GaussianNB() \n",
    "NB.fit(X_1_train, y_1_train)"
   ]
  },
  {
   "cell_type": "code",
   "execution_count": null,
   "id": "87ed738b",
   "metadata": {
    "scrolled": true
   },
   "outputs": [],
   "source": [
    "NB_pred = NB.predict(X_1_test)\n",
    "print('Accuracy_score=',(accuracy_score(y_1_test, NB_pred)))\n",
    "print((confusion_matrix(y_1_test, NB_pred)))\n",
    "print(classification_report(y_1_test, NB_pred))\n",
    "pd.crosstab(y_1_test, NB_pred)"
   ]
  },
  {
   "cell_type": "markdown",
   "id": "e21b8ed3",
   "metadata": {},
   "source": [
    "# ANN"
   ]
  },
  {
   "cell_type": "code",
   "execution_count": null,
   "id": "383cb1b5",
   "metadata": {},
   "outputs": [],
   "source": [
    "from sklearn.neural_network import MLPClassifier\n",
    "NN = MLPClassifier(random_state=42)"
   ]
  },
  {
   "cell_type": "code",
   "execution_count": null,
   "id": "7e5ae566",
   "metadata": {},
   "outputs": [],
   "source": [
    "NN.fit(X_1_train, y_1_train)"
   ]
  },
  {
   "cell_type": "code",
   "execution_count": null,
   "id": "0462db59",
   "metadata": {},
   "outputs": [],
   "source": [
    "from sklearn.metrics import accuracy_score\n",
    "\n",
    "ANN = NN.predict(X_1_test)\n",
    "print('Accuracy_score=',(accuracy_score(y_1_test, ANN)))\n",
    "print((confusion_matrix(y_1_test, ANN)))"
   ]
  },
  {
   "cell_type": "code",
   "execution_count": null,
   "id": "906912ac",
   "metadata": {},
   "outputs": [],
   "source": [
    "print(classification_report(y_1_test, ANN))\n",
    "pd.crosstab(y_1_test, ANN)"
   ]
  },
  {
   "cell_type": "markdown",
   "id": "3417860a",
   "metadata": {},
   "source": [
    "# XGBRF"
   ]
  },
  {
   "cell_type": "code",
   "execution_count": null,
   "id": "9fd96e08",
   "metadata": {},
   "outputs": [],
   "source": [
    "from xgboost import XGBRFClassifier"
   ]
  },
  {
   "cell_type": "code",
   "execution_count": null,
   "id": "5ed11123",
   "metadata": {},
   "outputs": [],
   "source": [
    "xgbrf = XGBRFClassifier()\n",
    "xgbrf.fit(X_1_train,y_1_train)"
   ]
  },
  {
   "cell_type": "code",
   "execution_count": null,
   "id": "2ec74277",
   "metadata": {
    "scrolled": true
   },
   "outputs": [],
   "source": [
    "y_predict = xgbrf.predict(X_1_test)\n",
    "print(classification_report(y_1_test, y_predict))\n",
    "print(accuracy_score(y_1_test, y_predict))\n",
    "print((confusion_matrix(y_1_test, y_predict)))\n",
    "pd.crosstab(y_1_test, y_predict)"
   ]
  },
  {
   "cell_type": "code",
   "execution_count": null,
   "id": "445eca22",
   "metadata": {
    "scrolled": true
   },
   "outputs": [],
   "source": [
    "df.info()"
   ]
  },
  {
   "cell_type": "code",
   "execution_count": null,
   "id": "d92a5815",
   "metadata": {
    "scrolled": true
   },
   "outputs": [],
   "source": [
    "df.head()"
   ]
  },
  {
   "cell_type": "markdown",
   "id": "35e8fdb6",
   "metadata": {},
   "source": [
    "# Feature Engineering - (i) Correlation filter"
   ]
  },
  {
   "cell_type": "code",
   "execution_count": null,
   "id": "74ae2dbc",
   "metadata": {},
   "outputs": [],
   "source": [
    "correlated_features = set()\n",
    "correlation_matrix = df.corr()"
   ]
  },
  {
   "cell_type": "code",
   "execution_count": null,
   "id": "d658a83f",
   "metadata": {},
   "outputs": [],
   "source": [
    "for i in range(len(correlation_matrix .columns)):\n",
    "    for j in range(i):\n",
    "        if abs(correlation_matrix.iloc[i, j]) > 0.90:\n",
    "            colname = correlation_matrix.columns[i]\n",
    "            correlated_features.add(colname)"
   ]
  },
  {
   "cell_type": "code",
   "execution_count": null,
   "id": "4e75725c",
   "metadata": {},
   "outputs": [],
   "source": [
    "print(len(correlated_features))"
   ]
  },
  {
   "cell_type": "code",
   "execution_count": null,
   "id": "f70448d8",
   "metadata": {},
   "outputs": [],
   "source": [
    "print(correlated_features)"
   ]
  },
  {
   "cell_type": "code",
   "execution_count": null,
   "id": "43473ba1",
   "metadata": {},
   "outputs": [],
   "source": [
    "df.drop(labels=correlated_features, axis=1, inplace=True)"
   ]
  },
  {
   "cell_type": "code",
   "execution_count": null,
   "id": "5028472c",
   "metadata": {},
   "outputs": [],
   "source": [
    "df.to_csv('correlation_filter.csv')"
   ]
  },
  {
   "cell_type": "code",
   "execution_count": null,
   "id": "689ebd5e",
   "metadata": {},
   "outputs": [],
   "source": [
    "df.info()"
   ]
  },
  {
   "cell_type": "code",
   "execution_count": null,
   "id": "f0b52a70",
   "metadata": {},
   "outputs": [],
   "source": [
    "# data preprocessing\n",
    "df.isnull().sum()"
   ]
  },
  {
   "cell_type": "code",
   "execution_count": null,
   "id": "3bdc7a37",
   "metadata": {
    "scrolled": true
   },
   "outputs": [],
   "source": [
    "statistics = df.describe()\n",
    "statistics"
   ]
  },
  {
   "cell_type": "code",
   "execution_count": null,
   "id": "997a2d9d",
   "metadata": {},
   "outputs": [],
   "source": [
    "X1 = df.drop('Activity', axis=1)  # Features\n",
    "y1 = df['Activity']  # Labels"
   ]
  },
  {
   "cell_type": "code",
   "execution_count": null,
   "id": "e4d7c576",
   "metadata": {},
   "outputs": [],
   "source": [
    "X1.columns"
   ]
  },
  {
   "cell_type": "code",
   "execution_count": null,
   "id": "54119751",
   "metadata": {},
   "outputs": [],
   "source": [
    "from sklearn.model_selection import train_test_split\n",
    "\n",
    "X1_train, X1_test, y1_train, y1_test = train_test_split(X1,y1, test_size=0.2, random_state=42)"
   ]
  },
  {
   "cell_type": "markdown",
   "id": "1bdcc8cd",
   "metadata": {},
   "source": [
    "# Model development with correlation filter features "
   ]
  },
  {
   "cell_type": "markdown",
   "id": "c881abd4",
   "metadata": {},
   "source": [
    "# XGB"
   ]
  },
  {
   "cell_type": "code",
   "execution_count": null,
   "id": "31c31ce4",
   "metadata": {},
   "outputs": [],
   "source": [
    "from sklearn.metrics import accuracy_score, confusion_matrix, classification_report\n",
    "from sklearn.linear_model import LogisticRegression\n",
    "from sklearn.ensemble import RandomForestClassifier\n",
    "from sklearn import svm\n",
    "from sklearn.tree import DecisionTreeClassifier\n",
    "from xgboost import XGBClassifier\n",
    "from sklearn.naive_bayes import GaussianNB\n",
    "from sklearn.neural_network import MLPClassifier\n",
    "from pathlib import Path\n",
    "from warnings import filterwarnings\n",
    "import time\n",
    "from matplotlib import pyplot as plt \n",
    "from sklearn import svm, metrics\n",
    "from sklearn.metrics import accuracy_score, confusion_matrix, classification_report, auc, recall_score\n",
    "from sklearn.metrics import roc_curve, roc_auc_score\n",
    "from sklearn.model_selection import KFold, train_test_split\n",
    "from sklearn.model_selection import StratifiedKFold\n",
    "from sklearn.feature_selection import RFECV\n",
    "from xgboost import XGBClassifier\n",
    "import matplotlib.pyplot as plt\n",
    "from numpy import mean\n",
    "from numpy import std\n",
    "from sklearn.model_selection import cross_val_score\n",
    "from sklearn.pipeline import make_pipeline\n",
    "from sklearn.preprocessing import StandardScaler\n",
    "from sklearn.preprocessing import MinMaxScaler"
   ]
  },
  {
   "cell_type": "code",
   "execution_count": null,
   "id": "f77e135e",
   "metadata": {},
   "outputs": [],
   "source": [
    "import xgboost as xgb\n",
    "xg = xgb.XGBClassifier()\n",
    "xg.fit(X1_train, y1_train)"
   ]
  },
  {
   "cell_type": "code",
   "execution_count": null,
   "id": "48419944",
   "metadata": {},
   "outputs": [],
   "source": [
    "xg_predict = xg.predict(X1_test)\n",
    "print('Accuracy_score=',(accuracy_score(y1_test, xg_predict)))\n",
    "print((confusion_matrix(y1_test,xg_predict)))\n",
    "print(classification_report(y1_test, xg_predict))\n",
    "pd.crosstab(y1_test, xg_predict)"
   ]
  },
  {
   "cell_type": "markdown",
   "id": "5bafdd3f",
   "metadata": {},
   "source": [
    "# Logistic Regression"
   ]
  },
  {
   "cell_type": "code",
   "execution_count": null,
   "id": "4824c86c",
   "metadata": {},
   "outputs": [],
   "source": [
    "from sklearn.linear_model import LogisticRegression\n",
    "\n",
    "LR = LogisticRegression()\n",
    "LR.fit(X1_train, y1_train)"
   ]
  },
  {
   "cell_type": "code",
   "execution_count": null,
   "id": "5c76d140",
   "metadata": {},
   "outputs": [],
   "source": [
    "LR_predict = LR.predict(X1_test)"
   ]
  },
  {
   "cell_type": "code",
   "execution_count": null,
   "id": "d3afb101",
   "metadata": {
    "scrolled": true
   },
   "outputs": [],
   "source": [
    "print('Accuracy_score=',(accuracy_score(y1_test, LR_predict)))\n",
    "print((confusion_matrix(y1_test, LR_predict)))\n",
    "print(classification_report(y1_test, LR_predict))\n",
    "pd.crosstab(y1_test, LR_predict)"
   ]
  },
  {
   "cell_type": "markdown",
   "id": "bd9216f0",
   "metadata": {},
   "source": [
    "# SVM"
   ]
  },
  {
   "cell_type": "code",
   "execution_count": null,
   "id": "2fce14fd",
   "metadata": {},
   "outputs": [],
   "source": [
    "from sklearn.svm import SVC\n",
    "from sklearn.model_selection import KFold, cross_val_score\n",
    "SV = SVC()\n",
    "SV.fit(X1_train, y1_train)"
   ]
  },
  {
   "cell_type": "code",
   "execution_count": null,
   "id": "6285cdf2",
   "metadata": {},
   "outputs": [],
   "source": [
    "svm = SV.predict(X1_test)"
   ]
  },
  {
   "cell_type": "code",
   "execution_count": null,
   "id": "b07ea478",
   "metadata": {},
   "outputs": [],
   "source": [
    "print(\"Accuracy:\",accuracy_score(y1_test, svm))\n",
    "print((confusion_matrix(y1_test, svm)))\n",
    "print(classification_report(y1_test, svm))\n",
    "pd.crosstab(y1_test, svm)"
   ]
  },
  {
   "cell_type": "markdown",
   "id": "c22ec17f",
   "metadata": {},
   "source": [
    "# RF"
   ]
  },
  {
   "cell_type": "code",
   "execution_count": null,
   "id": "fd04d308",
   "metadata": {},
   "outputs": [],
   "source": [
    "from sklearn.metrics import accuracy_score, confusion_matrix, classification_report\n",
    "from sklearn.linear_model import LogisticRegression\n",
    "from sklearn.ensemble import RandomForestClassifier\n",
    "from sklearn import svm\n",
    "from sklearn.tree import DecisionTreeClassifier\n",
    "from xgboost import XGBClassifier\n",
    "from sklearn.naive_bayes import GaussianNB\n",
    "from sklearn.neural_network import MLPClassifier"
   ]
  },
  {
   "cell_type": "code",
   "execution_count": null,
   "id": "4cffda69",
   "metadata": {},
   "outputs": [],
   "source": [
    "RF = RandomForestClassifier(random_state = 42)\n",
    "RF.fit(X1_train, y1_train)"
   ]
  },
  {
   "cell_type": "code",
   "execution_count": null,
   "id": "f64a1ca6",
   "metadata": {},
   "outputs": [],
   "source": [
    "RF_pred = RF.predict(X1_test)\n",
    "accuracy_score(y1_test, RF_pred)"
   ]
  },
  {
   "cell_type": "code",
   "execution_count": null,
   "id": "242bf6a8",
   "metadata": {},
   "outputs": [],
   "source": [
    "from sklearn.metrics import confusion_matrix\n",
    "\n",
    "print('Accuracy_score=',(accuracy_score(y1_test, RF_pred)))\n",
    "print(confusion_matrix(y1_test, RF_pred))\n",
    "print(classification_report(y1_test, RF_pred))\n",
    "pd.crosstab(y1_test, RF_pred)"
   ]
  },
  {
   "cell_type": "markdown",
   "id": "17b7193e",
   "metadata": {},
   "source": [
    "# DT"
   ]
  },
  {
   "cell_type": "code",
   "execution_count": null,
   "id": "bbd9de9d",
   "metadata": {},
   "outputs": [],
   "source": [
    "DT = DecisionTreeClassifier(random_state=42)\n",
    "DT.fit(X1_train, y1_train)"
   ]
  },
  {
   "cell_type": "code",
   "execution_count": null,
   "id": "338ab5e1",
   "metadata": {},
   "outputs": [],
   "source": [
    "DT_predict = DT.predict(X1_test)\n",
    "print('Accuracy_score=',(accuracy_score(y1_test, DT_predict)))\n",
    "print((confusion_matrix(y1_test, DT_predict)))"
   ]
  },
  {
   "cell_type": "code",
   "execution_count": null,
   "id": "b1c63ad0",
   "metadata": {},
   "outputs": [],
   "source": [
    "print(classification_report(y1_test, DT_predict))\n",
    "pd.crosstab(y1_test, DT_predict)"
   ]
  },
  {
   "cell_type": "markdown",
   "id": "f222e56b",
   "metadata": {},
   "source": [
    "# NB"
   ]
  },
  {
   "cell_type": "code",
   "execution_count": null,
   "id": "f9e54267",
   "metadata": {
    "scrolled": true
   },
   "outputs": [],
   "source": [
    "NB = GaussianNB() \n",
    "NB.fit(X1_train, y1_train)"
   ]
  },
  {
   "cell_type": "code",
   "execution_count": null,
   "id": "85289b17",
   "metadata": {},
   "outputs": [],
   "source": [
    "NB_pred = NB.predict(X1_test)\n",
    "print('Accuracy_score=',(accuracy_score(y1_test, NB_pred)))\n",
    "print((confusion_matrix(y1_test, NB_pred)))\n",
    "print(classification_report(y1_test, NB_pred))\n",
    "pd.crosstab(y1_test, NB_pred)"
   ]
  },
  {
   "cell_type": "markdown",
   "id": "adfb23db",
   "metadata": {},
   "source": [
    "# ANN"
   ]
  },
  {
   "cell_type": "code",
   "execution_count": null,
   "id": "d2971cb7",
   "metadata": {},
   "outputs": [],
   "source": [
    "from sklearn.neural_network import MLPClassifier\n",
    "NN = MLPClassifier(random_state=42)"
   ]
  },
  {
   "cell_type": "code",
   "execution_count": null,
   "id": "07add3c8",
   "metadata": {},
   "outputs": [],
   "source": [
    "NN.fit(X1_train, y1_train)"
   ]
  },
  {
   "cell_type": "code",
   "execution_count": null,
   "id": "d1bcadbd",
   "metadata": {},
   "outputs": [],
   "source": [
    "from sklearn.metrics import accuracy_score\n",
    "\n",
    "ANN = NN.predict(X1_test)\n",
    "print('Accuracy_score=',(accuracy_score(y1_test, ANN)))\n",
    "print((confusion_matrix(y1_test, ANN)))"
   ]
  },
  {
   "cell_type": "code",
   "execution_count": null,
   "id": "98377813",
   "metadata": {},
   "outputs": [],
   "source": [
    "print(classification_report(y1_test, ANN))\n",
    "pd.crosstab(y1_test, ANN)"
   ]
  },
  {
   "cell_type": "markdown",
   "id": "1060621b",
   "metadata": {},
   "source": [
    "# XGBRF"
   ]
  },
  {
   "cell_type": "code",
   "execution_count": null,
   "id": "3b2a8c14",
   "metadata": {},
   "outputs": [],
   "source": [
    "from xgboost import XGBRFClassifier"
   ]
  },
  {
   "cell_type": "code",
   "execution_count": null,
   "id": "7d7138bc",
   "metadata": {},
   "outputs": [],
   "source": [
    "xgbrf = XGBRFClassifier(random_state=22)\n",
    "xgbrf.fit(X1_train,y1_train)"
   ]
  },
  {
   "cell_type": "code",
   "execution_count": null,
   "id": "1d358b8c",
   "metadata": {
    "scrolled": true
   },
   "outputs": [],
   "source": [
    "y_predict = xgbrf.predict(X1_test)\n",
    "print(classification_report(y1_test, y_predict))\n",
    "print(accuracy_score(y1_test, y_predict))\n",
    "print((confusion_matrix(y1_test, y_predict)))\n",
    "pd.crosstab(y1_test, y_predict)"
   ]
  },
  {
   "cell_type": "markdown",
   "id": "8e5ddb00",
   "metadata": {},
   "source": [
    "# RFECV"
   ]
  },
  {
   "cell_type": "code",
   "execution_count": null,
   "id": "dcf3ca13",
   "metadata": {},
   "outputs": [],
   "source": [
    "rfecv = RFECV(\n",
    "    estimator=XGBRFClassifier(),\n",
    "    step=1,\n",
    "    cv=StratifiedKFold(10)\n",
    ")"
   ]
  },
  {
   "cell_type": "code",
   "execution_count": null,
   "id": "170576bb",
   "metadata": {
    "scrolled": true
   },
   "outputs": [],
   "source": [
    "rfecv.fit(X1.values, y1)"
   ]
  },
  {
   "cell_type": "code",
   "execution_count": null,
   "id": "39efce08",
   "metadata": {},
   "outputs": [],
   "source": [
    "print('Optimal number of features: {}'.format(rfecv.n_features_))\n",
    "plt.figure(figsize=(16, 9))\n",
    "plt.title('Recursive Feature Elimination with Cross-Validation', fontsize=18, fontweight='bold', pad=20)\n",
    "plt.xlabel('Number of features selected', fontsize=14, labelpad=20)\n",
    "plt.ylabel('% Correct Classification', fontsize=14, labelpad=20)\n",
    "plt.plot(range(1, len(rfecv.grid_scores_) + 1), rfecv.grid_scores_,  linewidth=3)\n",
    "\n",
    "plt.show()"
   ]
  },
  {
   "cell_type": "code",
   "execution_count": null,
   "id": "6e998b20",
   "metadata": {},
   "outputs": [],
   "source": [
    "print(rfecv.n_features_)"
   ]
  },
  {
   "cell_type": "markdown",
   "id": "00fdff0b",
   "metadata": {},
   "source": [
    "# RFECV Feature Extraction"
   ]
  },
  {
   "cell_type": "code",
   "execution_count": null,
   "id": "8dd8155d",
   "metadata": {},
   "outputs": [],
   "source": [
    "import numpy as np\n",
    "print(np.where(rfecv.support_ == False)[0])\n",
    "df1 = X1.drop(X1.columns[np.where(rfecv.support_ == False)[0]], axis=1)\n",
    "df1"
   ]
  },
  {
   "cell_type": "code",
   "execution_count": null,
   "id": "1f7a9993",
   "metadata": {
    "scrolled": false
   },
   "outputs": [],
   "source": [
    "print(df1.columns)"
   ]
  },
  {
   "cell_type": "code",
   "execution_count": null,
   "id": "ce215cb3",
   "metadata": {},
   "outputs": [],
   "source": [
    "# Export the DataFrame df1 to a CSV file\n",
    "df1.to_csv('rfecv_xgbrf_data.csv', index=False)\n",
    "\n",
    "print(\"Filtered data exported successfully to 5_xgbrf_train_rfecv.csv\") #rfecv_xgbrf_data.csv"
   ]
  },
  {
   "cell_type": "code",
   "execution_count": null,
   "id": "00283cc5",
   "metadata": {},
   "outputs": [],
   "source": [
    "df1.shape"
   ]
  },
  {
   "cell_type": "code",
   "execution_count": null,
   "id": "35cf1f10",
   "metadata": {
    "scrolled": true
   },
   "outputs": [],
   "source": [
    "#Import the dataframe after including the activity column\n",
    "df1 = pd.read_csv('5_xgbrf_train_rfecv.csv') #rfecv_xgbrf_data.csv\n",
    "df1.head()"
   ]
  },
  {
   "cell_type": "code",
   "execution_count": null,
   "id": "6749834b",
   "metadata": {},
   "outputs": [],
   "source": [
    "X2 = df1.iloc[:,:-1]\n",
    "y2 = df1.Activity"
   ]
  },
  {
   "cell_type": "code",
   "execution_count": null,
   "id": "b6fbd3ba",
   "metadata": {},
   "outputs": [],
   "source": [
    "from sklearn.model_selection import train_test_split\n",
    "\n",
    "X2_train, X2_test, y2_train, y2_test = train_test_split(X2, y2, test_size=0.2, random_state=42)"
   ]
  },
  {
   "cell_type": "markdown",
   "id": "10472c99",
   "metadata": {},
   "source": [
    "## Model development with RFECV"
   ]
  },
  {
   "cell_type": "markdown",
   "id": "c96cc937",
   "metadata": {},
   "source": [
    "# XGB"
   ]
  },
  {
   "cell_type": "code",
   "execution_count": null,
   "id": "d38db611",
   "metadata": {
    "scrolled": true
   },
   "outputs": [],
   "source": [
    "xg = xgb.XGBClassifier()\n",
    "xg.fit(X2_train, y2_train)"
   ]
  },
  {
   "cell_type": "code",
   "execution_count": null,
   "id": "f1cb1099",
   "metadata": {
    "scrolled": true
   },
   "outputs": [],
   "source": [
    "xg_predict = xg.predict(X2_test)\n",
    "print('Accuracy_score=',(accuracy_score(y2_test, xg_predict)))\n",
    "print((confusion_matrix(y2_test,xg_predict)))\n",
    "print(classification_report(y2_test, xg_predict))\n",
    "pd.crosstab(y2_test, xg_predict)"
   ]
  },
  {
   "cell_type": "markdown",
   "id": "49f95202",
   "metadata": {},
   "source": [
    "## LR"
   ]
  },
  {
   "cell_type": "code",
   "execution_count": null,
   "id": "54841dbc",
   "metadata": {},
   "outputs": [],
   "source": [
    "from sklearn.linear_model import LogisticRegression\n",
    "\n",
    "LR = LogisticRegression()\n",
    "LR.fit(X2_train, y2_train)"
   ]
  },
  {
   "cell_type": "code",
   "execution_count": null,
   "id": "af97f12b",
   "metadata": {},
   "outputs": [],
   "source": [
    "LR_predict = LR.predict(X2_test)"
   ]
  },
  {
   "cell_type": "code",
   "execution_count": null,
   "id": "d6377f3c",
   "metadata": {},
   "outputs": [],
   "source": [
    "print('Accuracy_score=',(accuracy_score(y2_test, LR_predict)))\n",
    "print((confusion_matrix(y2_test, LR_predict)))\n",
    "print(classification_report(y2_test, LR_predict))\n",
    "pd.crosstab(y2_test, LR_predict)"
   ]
  },
  {
   "cell_type": "markdown",
   "id": "39be1128",
   "metadata": {},
   "source": [
    "## SVM"
   ]
  },
  {
   "cell_type": "code",
   "execution_count": null,
   "id": "9fadbfcc",
   "metadata": {},
   "outputs": [],
   "source": [
    "from sklearn import svm\n",
    "\n",
    "SV = svm.SVC()\n",
    "SV.fit(X2_train, y2_train)"
   ]
  },
  {
   "cell_type": "code",
   "execution_count": null,
   "id": "eb3f0780",
   "metadata": {},
   "outputs": [],
   "source": [
    "svm = SV.predict(X2_test)"
   ]
  },
  {
   "cell_type": "code",
   "execution_count": null,
   "id": "7ba991c5",
   "metadata": {},
   "outputs": [],
   "source": [
    "print(\"Accuracy:\",accuracy_score(y2_test, svm))\n",
    "print((confusion_matrix(y2_test, svm)))\n",
    "print(classification_report(y2_test, svm))\n",
    "pd.crosstab(y2_test, svm)"
   ]
  },
  {
   "cell_type": "markdown",
   "id": "457f33f3",
   "metadata": {},
   "source": [
    "## RF"
   ]
  },
  {
   "cell_type": "code",
   "execution_count": null,
   "id": "a5628c06",
   "metadata": {},
   "outputs": [],
   "source": [
    "RF = RandomForestClassifier(random_state = 42)\n",
    "RF.fit(X2_train, y2_train)"
   ]
  },
  {
   "cell_type": "code",
   "execution_count": null,
   "id": "52653d86",
   "metadata": {},
   "outputs": [],
   "source": [
    "RF_pred = RF.predict(X2_test)\n",
    "accuracy_score(y2_test, RF_pred)"
   ]
  },
  {
   "cell_type": "code",
   "execution_count": null,
   "id": "7613728c",
   "metadata": {},
   "outputs": [],
   "source": [
    "from sklearn.metrics import confusion_matrix\n",
    "\n",
    "print('Accuracy_score=',(accuracy_score(y2_test, RF_pred)))\n",
    "print(confusion_matrix(y2_test, RF_pred))\n",
    "print(classification_report(y2_test, RF_pred))\n",
    "pd.crosstab(y2_test, RF_pred)"
   ]
  },
  {
   "cell_type": "markdown",
   "id": "3befc201",
   "metadata": {},
   "source": [
    "## DT"
   ]
  },
  {
   "cell_type": "code",
   "execution_count": null,
   "id": "758f511f",
   "metadata": {},
   "outputs": [],
   "source": [
    "DT = DecisionTreeClassifier(random_state=42)\n",
    "DT.fit(X2_train, y2_train)"
   ]
  },
  {
   "cell_type": "code",
   "execution_count": null,
   "id": "2e0f5244",
   "metadata": {},
   "outputs": [],
   "source": [
    "DT_predict = DT.predict(X2_test)\n",
    "print('Accuracy_score=',(accuracy_score(y2_test, DT_predict)))\n",
    "print((confusion_matrix(y2_test, DT_predict)))"
   ]
  },
  {
   "cell_type": "code",
   "execution_count": null,
   "id": "afc8ef40",
   "metadata": {},
   "outputs": [],
   "source": [
    "print(classification_report(y2_test, DT_predict))\n",
    "pd.crosstab(y2_test, DT_predict)"
   ]
  },
  {
   "cell_type": "markdown",
   "id": "5398cbc3",
   "metadata": {},
   "source": [
    "## NB"
   ]
  },
  {
   "cell_type": "code",
   "execution_count": null,
   "id": "88a47d57",
   "metadata": {},
   "outputs": [],
   "source": [
    "NB = GaussianNB() \n",
    "NB.fit(X2_train, y2_train)"
   ]
  },
  {
   "cell_type": "code",
   "execution_count": null,
   "id": "b261fafa",
   "metadata": {},
   "outputs": [],
   "source": [
    "NB_pred = NB.predict(X2_test)\n",
    "print('Accuracy_score=',(accuracy_score(y2_test, NB_pred)))\n",
    "print((confusion_matrix(y2_test, NB_pred)))\n",
    "print(classification_report(y2_test, NB_pred))\n",
    "pd.crosstab(y2_test, NB_pred)"
   ]
  },
  {
   "cell_type": "markdown",
   "id": "0e1a2ca3",
   "metadata": {},
   "source": [
    "## ANN"
   ]
  },
  {
   "cell_type": "code",
   "execution_count": null,
   "id": "6eef12c9",
   "metadata": {},
   "outputs": [],
   "source": [
    "from sklearn.neural_network import MLPClassifier\n",
    "NN = MLPClassifier(random_state=42)"
   ]
  },
  {
   "cell_type": "code",
   "execution_count": null,
   "id": "a45d5ee7",
   "metadata": {},
   "outputs": [],
   "source": [
    "NN.fit(X2_train, y2_train)"
   ]
  },
  {
   "cell_type": "code",
   "execution_count": null,
   "id": "79c9ba72",
   "metadata": {},
   "outputs": [],
   "source": [
    "from sklearn.metrics import accuracy_score\n",
    "\n",
    "ANN = NN.predict(X2_test)\n",
    "print('Accuracy_score=',(accuracy_score(y2_test, ANN)))\n",
    "print((confusion_matrix(y2_test, ANN)))"
   ]
  },
  {
   "cell_type": "code",
   "execution_count": null,
   "id": "78dafea7",
   "metadata": {},
   "outputs": [],
   "source": [
    "print(classification_report(y2_test, ANN))\n",
    "pd.crosstab(y2_test, ANN)"
   ]
  },
  {
   "cell_type": "markdown",
   "id": "43112b2c",
   "metadata": {},
   "source": [
    "## XGBRF"
   ]
  },
  {
   "cell_type": "code",
   "execution_count": null,
   "id": "f209941d",
   "metadata": {},
   "outputs": [],
   "source": [
    "from xgboost import XGBRFClassifier"
   ]
  },
  {
   "cell_type": "code",
   "execution_count": null,
   "id": "e84b0adb",
   "metadata": {},
   "outputs": [],
   "source": [
    "xgbrf = XGBRFClassifier(random_state=22)\n",
    "xgbrf.fit(X2_train,y2_train)"
   ]
  },
  {
   "cell_type": "code",
   "execution_count": null,
   "id": "b6b1c4ed",
   "metadata": {},
   "outputs": [],
   "source": [
    "y_predict = xgbrf.predict(X2_test)\n",
    "print(classification_report(y2_test, y_predict))\n",
    "print(accuracy_score(y2_test, y_predict))\n",
    "print((confusion_matrix(y2_test, y_predict)))\n",
    "pd.crosstab(y2_test, y_predict)"
   ]
  },
  {
   "cell_type": "markdown",
   "id": "83e54894",
   "metadata": {},
   "source": [
    "# AUC-ROC after RFECV"
   ]
  },
  {
   "cell_type": "code",
   "execution_count": null,
   "id": "50d1aff2",
   "metadata": {
    "scrolled": true
   },
   "outputs": [],
   "source": [
    "import matplotlib.pyplot as plt\n",
    "from sklearn.metrics import roc_curve, roc_auc_score\n",
    "\n",
    "# Assuming you have your models and test data defined:\n",
    "# LR_c, RF_c, xg_c, DT_c, NB_c, SV_c, NN_cf, xgbrf_c, x1_test, y1_test\n",
    "\n",
    "# Dictionary to store model names and their predictions\n",
    "models = {\n",
    "    \"Logistic Regression\": LR,\n",
    "    \"XGBoost\": xg,\n",
    "    \"Random Forest\": RF,\n",
    "    \"Decision Tree\": DT,\n",
    "    \"Naive Bayes\": NB,\n",
    "    \"SVM\": SV,\n",
    "    \"ANN\": NN,\n",
    "    \"XGBRF\": xgbrf,\n",
    "}\n",
    "\n",
    "plt.figure(figsize=(10, 8))  # Adjust figure size as needed\n",
    "\n",
    "for name, model in models.items():\n",
    "    try:\n",
    "        y_pred_proba = model.predict_proba(X2_test)[:, 1]\n",
    "        fpr, tpr, _ = roc_curve(y2_test, y_pred_proba)\n",
    "        auc = roc_auc_score(y2_test, y_pred_proba)\n",
    "        plt.plot(fpr, tpr, label=f'{name} AUC = {auc:.3f}')\n",
    "        print(f'{name} ROC AUC: {auc:.3f}')\n",
    "    except AttributeError:\n",
    "        #Handle SVM, which can lack predict_proba.\n",
    "        y_pred = model.decision_function(X2_test) #use decision_function\n",
    "        fpr, tpr, _ = roc_curve(y2_test, y_pred)\n",
    "        auc = roc_auc_score(y2_test, y_pred)\n",
    "        plt.plot(fpr, tpr, label=f'{name} AUC = {auc:.3f}')\n",
    "        print(f'{name} ROC AUC: {auc:.3f}')\n",
    "\n",
    "plt.plot([0, 1], [0, 1], \"k--\", label=\"Baseline\")  # Add random classifier line\n",
    "plt.xlabel('False Positive Rate')\n",
    "plt.ylabel('True Positive Rate')\n",
    "plt.title('Receiver Operating Characteristic (ROC) Curves')\n",
    "plt.legend(loc='lower right')\n",
    "plt.savefig('all_models_roc_curve.png') #save the figure\n",
    "plt.show()"
   ]
  },
  {
   "cell_type": "markdown",
   "id": "16867a93",
   "metadata": {},
   "source": [
    "# Optuna hyperparameter tuning"
   ]
  },
  {
   "cell_type": "markdown",
   "id": "42b1af93",
   "metadata": {},
   "source": [
    "# Optuna"
   ]
  },
  {
   "cell_type": "markdown",
   "id": "502a260f",
   "metadata": {},
   "source": [
    "## LR"
   ]
  },
  {
   "cell_type": "code",
   "execution_count": null,
   "id": "53282b7b",
   "metadata": {},
   "outputs": [],
   "source": [
    "def objective(trial,data=X2,target=y2):\n",
    "    \n",
    "    param = {\n",
    "        'tol' : trial.suggest_uniform('tol' , 1e-6 , 1e-3),\n",
    "        'C' : trial.suggest_loguniform(\"C\", 1e-2, 1),\n",
    "        'fit_intercept' : trial.suggest_categorical('fit_intercept' , [True, False]),\n",
    "        'random_state' : trial.suggest_categorical('random_state' , [0, 42, 2021, 555]),\n",
    "        'solver' : trial.suggest_categorical('solver' , ['lbfgs','liblinear']),\n",
    "        \"n_jobs\" : -1\n",
    "    }\n",
    "    model = LogisticRegression(**param)  \n",
    "    model.fit(X2_train,y2_train)\n",
    "     \n",
    "    preds = model.predict(X2_test)\n",
    "    accuracy = accuracy_score(y2_test, preds)\n",
    "    \n",
    "    \n",
    "    return accuracy"
   ]
  },
  {
   "cell_type": "code",
   "execution_count": null,
   "id": "533ccb05",
   "metadata": {},
   "outputs": [],
   "source": [
    "study = optuna.create_study(direction=\"maximize\")\n",
    "study.optimize(objective, n_trials=1000)\n",
    "trial = study.best_trial\n",
    "print('accuracy:{}'.format(trial.value))\n",
    "print(\"best hyperparameters:{}\".format(trial.params))\n",
    "print('Number of finished trials:', len(study.trials))"
   ]
  },
  {
   "cell_type": "markdown",
   "id": "d5fca9e0",
   "metadata": {},
   "source": [
    "## XGB"
   ]
  },
  {
   "cell_type": "code",
   "execution_count": null,
   "id": "ba055c82",
   "metadata": {},
   "outputs": [],
   "source": [
    "def objective(trial,data=X2,target=y2):\n",
    "    \n",
    "\n",
    "    param = { \n",
    "        'gamma': trial.suggest_categorical('gamma', [0, 1]),\n",
    "        'colsample_bylevel': trial.suggest_categorical('colsample_bylevel', [0,0.5,1]),\n",
    "        'colsample_bytree': trial.suggest_categorical('colsample_bytree', [0,0.5,1]),\n",
    "        'colsample_bynode' :trial.suggest_categorical('colsample_bynode', [0,0.1,0.2,0.3,0.4,0.5,0.6,0.7,0.8,0.9,1]),\n",
    "        'subsample': trial.suggest_categorical('subsample', [0,0.1,0.2,0.3,0.4,0.5,0.6,0.7,0.8,0.9,1]),\n",
    "        'n_estimators': trial.suggest_int('n_estimators', 1, 800),\n",
    "        'learning_rate' :trial.suggest_categorical('learning_rate', [0,0.1,0.2,0.3,0.4,0.5,0.6,0.7,0.8,0.9,1]),\n",
    "        'max_delta_step':trial.suggest_int('max_delta_step', 0,80),\n",
    "        'max_depth':trial.suggest_int('max_depth', 1,80),\n",
    "        'random_state':trial.suggest_int('random_state', 1,500),\n",
    "        'num_parallel_tree':trial.suggest_int('num_parallel_tree', 1,500),\n",
    "        'min_child_weight':trial.suggest_int('min_child_weight', 1, 80),\n",
    "        'verbosity':trial.suggest_categorical('verbosity', [0, 1]),\n",
    "    }\n",
    "    model = XGBClassifier(**param)  \n",
    "    model.fit(X2_train,y2_train)\n",
    "     \n",
    "    preds = model.predict(X2_test)\n",
    "    accuracy = accuracy_score(y2_test, preds)\n",
    "    \n",
    "    \n",
    "    return accuracy"
   ]
  },
  {
   "cell_type": "code",
   "execution_count": null,
   "id": "601754ae",
   "metadata": {
    "scrolled": true
   },
   "outputs": [],
   "source": [
    "study = optuna.create_study(direction=\"maximize\")\n",
    "study.optimize(objective, n_trials=1000)\n",
    "print('accuracy:{}'.format(trial.value))\n",
    "print(\"best hyperparameters:{}\".format(trial.params))\n",
    "print('Number of finished trials:', len(study.trials))"
   ]
  },
  {
   "cell_type": "markdown",
   "id": "47cf4a2b",
   "metadata": {},
   "source": [
    "## RF"
   ]
  },
  {
   "cell_type": "code",
   "execution_count": null,
   "id": "8244d1b9",
   "metadata": {},
   "outputs": [],
   "source": [
    "def objective(trial,data=X2,target=y2):\n",
    "    \n",
    "    param = { \n",
    "        'n_estimators': trial.suggest_int('n_estimators', 10, 1000),\n",
    "        'max_depth': trial.suggest_int('max_depth', 1,90),\n",
    "        'n_jobs': trial.suggest_int('n_jobs', 1,80),\n",
    "        'random_state': trial.suggest_int('random_state', 0,500),\n",
    "        'min_samples_split' :trial.suggest_int('min_samples_split', 5,500),\n",
    "        'min_samples_leaf':trial.suggest_int('min_samples_leaf', 1,500),\n",
    "        'max_leaf_nodes':trial.suggest_int('max_leaf_nodes', 5,500),\n",
    "        'bootstrap':trial.suggest_categorical('bootstrap',[True]),\n",
    "        'verbose':trial.suggest_categorical('verbose', [0,1]),\n",
    "    }\n",
    "    model = RandomForestClassifier(**param)  \n",
    "    model.fit(X2_train,y2_train)\n",
    "     \n",
    "    preds = model.predict(X2_test)\n",
    "    accuracy = accuracy_score(y2_test, preds)\n",
    "    \n",
    "    \n",
    "    return accuracy\n"
   ]
  },
  {
   "cell_type": "code",
   "execution_count": null,
   "id": "31711b50",
   "metadata": {},
   "outputs": [],
   "source": [
    "study = optuna.create_study(direction=\"maximize\")\n",
    "study.optimize(objective, n_trials=1000)\n",
    "trial = study.best_trial\n",
    "print('Accuracy:{}'.format(trial.value))\n",
    "print(\"best hyperparameters:{}\".format(trial.params))\n",
    "print('Number of finished trials:', len(study.trials))"
   ]
  },
  {
   "cell_type": "markdown",
   "id": "80cdb7c4",
   "metadata": {},
   "source": [
    "## DT\n"
   ]
  },
  {
   "cell_type": "code",
   "execution_count": null,
   "id": "3f6064c1",
   "metadata": {},
   "outputs": [],
   "source": [
    "def objective(trial,data=X2,target=y2):\n",
    "        \n",
    "    param = { \n",
    "        'min_weight_fraction_leaf': trial.suggest_int('min_weight_fraction_leaf', 0, 0.5),\n",
    "        'max_depth': trial.suggest_int('max_depth', 1,90),\n",
    "        'random_state': trial.suggest_int('random_state', 0,500),\n",
    "        'min_samples_split' :trial.suggest_int('min_samples_split', 5,50),\n",
    "        'min_samples_leaf':trial.suggest_int('min_samples_leaf', 1,50),\n",
    "        'max_leaf_nodes':trial.suggest_int('max_leaf_nodes', 5,50),\n",
    "        'criterion': trial.suggest_categorical('criterion',['gini']),\n",
    "        'splitter':trial.suggest_categorical('splitter', ['best']),\n",
    "    }\n",
    "    model = DecisionTreeClassifier(**param)  \n",
    "    model.fit(X2_train,y2_train)\n",
    "     \n",
    "    preds = model.predict(X2_test)\n",
    "    accuracy = accuracy_score(y2_test, preds)\n",
    "    \n",
    "    \n",
    "    return accuracy"
   ]
  },
  {
   "cell_type": "code",
   "execution_count": null,
   "id": "59b3fb81",
   "metadata": {
    "scrolled": true
   },
   "outputs": [],
   "source": [
    "study = optuna.create_study(direction=\"maximize\")\n",
    "study.optimize(objective, n_trials=1000)\n",
    "trial = study.best_trial\n",
    "print('Accuracy:{}'.format(trial.value))\n",
    "print(\"best hyperparameters:{}\".format(trial.params))\n",
    "print('Number of finished trials:', len(study.trials))"
   ]
  },
  {
   "cell_type": "markdown",
   "id": "b46519d2",
   "metadata": {},
   "source": [
    "## NB"
   ]
  },
  {
   "cell_type": "code",
   "execution_count": null,
   "id": "2fe7a286",
   "metadata": {},
   "outputs": [],
   "source": [
    "def objective(trial,data=X2,target=y2):\n",
    "    \n",
    "    param = {\"priors\": None, \"var_smoothing\": 0\n",
    "\n",
    "    }\n",
    "    model = GaussianNB(**param)  \n",
    "    model.fit(X2_train,y2_train)\n",
    "     \n",
    "    preds = model.predict(X2_test)\n",
    "    accuracy = accuracy_score(y2_test, preds)\n",
    "    \n",
    "    \n",
    "    return accuracy"
   ]
  },
  {
   "cell_type": "code",
   "execution_count": null,
   "id": "86bc229f",
   "metadata": {},
   "outputs": [],
   "source": [
    "study = optuna.create_study(direction=\"maximize\")\n",
    "study.optimize(objective, n_trials=1000)\n",
    "print('accuracy:{}'.format(trial.value))\n",
    "print(\"best hyperparameters:{}\".format(trial.params))\n",
    "print('Number of finished trials:', len(study.trials))"
   ]
  },
  {
   "cell_type": "markdown",
   "id": "e2133491",
   "metadata": {},
   "source": [
    "## SVM"
   ]
  },
  {
   "cell_type": "code",
   "execution_count": null,
   "id": "a1954eac",
   "metadata": {},
   "outputs": [],
   "source": [
    "from sklearn import svm\n",
    "\n",
    "def objective(trial, data=X2,target=y2):\n",
    "    \n",
    "    param = {'C':trial.suggest_float(\"C\", 1e-2, 1e2, log=True),\n",
    "        'gamma':trial.suggest_float(\"gamma\", 1e-2, 1e-2, log=True),\n",
    "        'kernel':trial.suggest_categorical(\"kernel\", [\"linear\", \"poly\", \"rbf\"])\n",
    "\n",
    "    }\n",
    "    model = svm.SVC(**param)  \n",
    "    model.fit(X2_train,y2_train)\n",
    "     \n",
    "    preds = model.predict(X2_test)\n",
    "    accuracy = accuracy_score(y2_test, preds)\n",
    "    \n",
    "    \n",
    "    return accuracy"
   ]
  },
  {
   "cell_type": "code",
   "execution_count": null,
   "id": "1bd57fdb",
   "metadata": {
    "scrolled": true
   },
   "outputs": [],
   "source": [
    "study = optuna.create_study(direction=\"maximize\")\n",
    "study.optimize(objective, n_trials=1000)\n",
    "trial = study.best_trial\n",
    "print('Accuracy:{}'.format(trial.value))\n",
    "print(\"best hyperparameters:{}\".format(trial.params))\n",
    "print('Number of finished trials:', len(study.trials))"
   ]
  },
  {
   "cell_type": "markdown",
   "id": "ca00bb37",
   "metadata": {},
   "source": [
    "# ANN"
   ]
  },
  {
   "cell_type": "code",
   "execution_count": null,
   "id": "ae94023f",
   "metadata": {},
   "outputs": [],
   "source": [
    "def objective(trial, data=X2,target=y2):\n",
    "    param = {\n",
    "      \"hidden_layer_size\": (trial.suggest_int(\"hidden_layer_sizes\", 10, 200),),  # Single layer with size suggestion\n",
    "      \"activation\": trial.suggest_categorical(\"activation\", [\"relu\", \"tanh\", \"logistic\"]),\n",
    "      \"solver\": trial.suggest_categorical(\"solver\", [\"adam\", \"sgd\"]),\n",
    "        \"alpha\": trial.suggest_loguniform(\"alpha\", 1e-5, 1e-1),  # L2 penalty (regularization)\n",
    "        \"learning_rate_init\": trial.suggest_loguniform(\"learning_rate_init\", 1e-5, 1e-1),\n",
    "        \"max_iter\": 200,\n",
    "        \"early_stopping\": True,  # Enable early stopping to avoid overfitting\n",
    "        \"random_state\": 42\n",
    "    }\n",
    "    model = MLPClassifier(**param)  \n",
    "    model.fit(X2_train,y2_train)\n",
    "     \n",
    "    preds = model.predict(X2_test)\n",
    "    accuracy = accuracy_score(y2_test, preds)\n",
    "    \n",
    "    \n",
    "    return accuracy"
   ]
  },
  {
   "cell_type": "code",
   "execution_count": null,
   "id": "30a1b907",
   "metadata": {
    "scrolled": true
   },
   "outputs": [],
   "source": [
    "study = optuna.create_study(direction=\"maximize\")\n",
    "study.optimize(objective, n_trials=1000)\n",
    "trial = study.best_trial\n",
    "print('Accuracy:{}'.format(trial.value))\n",
    "print(\"best hyperparameters:{}\".format(trial.params))\n",
    "print('Number of finished trials:', len(study.trials))"
   ]
  },
  {
   "cell_type": "markdown",
   "id": "eec3fad5",
   "metadata": {},
   "source": [
    "# XGBRFClassifier"
   ]
  },
  {
   "cell_type": "code",
   "execution_count": null,
   "id": "7f707b90",
   "metadata": {},
   "outputs": [],
   "source": [
    "from xgboost import XGBRFClassifier\n",
    "def objective(trial, data=X2, target=y2):\n",
    "   \n",
    "    # Define the hyperparameter param \n",
    "                 \n",
    "                                \n",
    "    param = {\n",
    "        'base_score': 0.5,\n",
    "        'booster': 'gbtree',\n",
    "        'colsample_bylevel': trial.suggest_float('colsample_bylevel', 0.5, 1.0),\n",
    "        'colsample_bytree': trial.suggest_float('colsample_bytree', 0.5, 1.0),\n",
    "        'gamma': trial.suggest_float('gamma', 0, 5),\n",
    "        'gpu_id': -1,\n",
    "        'importance_type': 'gain',\n",
    "        'interaction_constraints': '',\n",
    "        'max_delta_step': trial.suggest_int('max_delta_step', 0, 10),\n",
    "        'max_depth': trial.suggest_int('max_depth', 3, 10),\n",
    "        'min_child_weight': trial.suggest_int('min_child_weight', 1, 10),\n",
    "        'missing': None,\n",
    "        'monotone_constraints': '()',\n",
    "        'n_estimators': trial.suggest_int('n_estimators', 50, 200),\n",
    "        'n_jobs': 8,\n",
    "        'num_parallel_tree': trial.suggest_int('num_parallel_tree', 1, 100),\n",
    "        'objective': 'binary:logistic',\n",
    "        'random_state': 22,\n",
    "        'reg_alpha': trial.suggest_float('reg_alpha', 0, 1),\n",
    "        'scale_pos_weight': trial.suggest_float('scale_pos_weight', 0.5, 2.0),\n",
    "        'tree_method': 'exact',\n",
    "        'validate_parameters': 1,\n",
    "        'verbosity': None\n",
    "    }\n",
    "    # Create the XGBRFClassifier model with hyperparameters from param \n",
    "    model = XGBRFClassifier(**param)\n",
    "\n",
    "    # Train the model\n",
    "\n",
    "    model.fit(X2_train,y2_train)\n",
    "     \n",
    "    preds = model.predict(X2_test)\n",
    "    accuracy = accuracy_score(y2_test, preds)\n",
    "    \n",
    "    \n",
    "    return accuracy "
   ]
  },
  {
   "cell_type": "code",
   "execution_count": null,
   "id": "df6c0cee",
   "metadata": {},
   "outputs": [],
   "source": [
    "study = optuna.create_study(direction=\"maximize\")\n",
    "study.optimize(objective, n_trials=1000)\n",
    "trial = study.best_trial\n",
    "print('Accuracy:{}'.format(trial.value))\n",
    "print(\"best hyperparameters:{}\".format(trial.params))\n",
    "print('Number of finished trials:', len(study.trials))"
   ]
  },
  {
   "cell_type": "markdown",
   "id": "621329c4",
   "metadata": {},
   "source": [
    "## Model development - Tunned parameters"
   ]
  },
  {
   "cell_type": "markdown",
   "id": "f57214c4",
   "metadata": {},
   "source": [
    "## LR"
   ]
  },
  {
   "cell_type": "code",
   "execution_count": null,
   "id": "086a67d5",
   "metadata": {},
   "outputs": [],
   "source": [
    "LR_c = LogisticRegression(tol= 0.0002872485265154782, C= 0.2507602699236452, fit_intercept= True, random_state= 42, solver= 'lbfgs')"
   ]
  },
  {
   "cell_type": "code",
   "execution_count": null,
   "id": "e9929c76",
   "metadata": {},
   "outputs": [],
   "source": [
    "LR_c.fit(X2_train, y2_train)\n",
    "LR_predict_c = LR_c.predict(X2_test)"
   ]
  },
  {
   "cell_type": "code",
   "execution_count": null,
   "id": "2a14c600",
   "metadata": {},
   "outputs": [],
   "source": [
    "print('Accuracy_score=',(accuracy_score(y2_test, LR_predict_c)))\n",
    "print((confusion_matrix(y2_test, LR_predict_c)))\n",
    "print(classification_report(y2_test, LR_predict_c))\n",
    "pd.crosstab(y2_test, LR_predict_c)"
   ]
  },
  {
   "cell_type": "markdown",
   "id": "0e46f005",
   "metadata": {},
   "source": [
    "## AUC-ROC"
   ]
  },
  {
   "cell_type": "code",
   "execution_count": null,
   "id": "864fad2b",
   "metadata": {},
   "outputs": [],
   "source": [
    "from sklearn.metrics import roc_curve, roc_auc_score\n",
    "from matplotlib import pyplot as plt\n",
    "\n",
    "LR1 = LR_c.predict_proba(X2_test)[:, 1]\n",
    "roc_auc = roc_auc_score(y2_test, LR1)\n",
    "fpr1, tpr1, threshold = roc_curve(y2_test, LR1)\n",
    "plt.title('LR Receiver Operating Characteristic')\n",
    "plt.plot(fpr1, tpr1,label = 'AUC = %0.3f' % roc_auc)\n",
    "plt.legend(loc = 'lower right')\n",
    "plt.ylabel('True Positive Rate')\n",
    "plt.xlabel('False Positive Rate')\n",
    "print('LR ROC AUC %.3f' % roc_auc)\n",
    "plt.savefig('LR ROC_curve.jpg')\n",
    "plt.show()"
   ]
  },
  {
   "cell_type": "code",
   "execution_count": null,
   "id": "85c8def3",
   "metadata": {},
   "outputs": [],
   "source": [
    "from sklearn.model_selection import cross_val_score,KFold\n",
    "\n",
    "LR_c = LogisticRegression(tol= 0.0002872485265154782, C= 0.2507602699236452, fit_intercept= True, random_state= 42, solver= 'lbfgs')\n",
    "kf=StratifiedKFold(n_splits=5, random_state=42,shuffle=True)\n",
    "score=cross_val_score(LR_c,X2_train,y2_train,cv=kf, scoring='roc_auc')\n",
    "print(\"Cross Validation Scores are {}\".format(score))\n",
    "print(\"Average Cross Validation score :{}\".format(score.mean()))"
   ]
  },
  {
   "cell_type": "code",
   "execution_count": null,
   "id": "a120fa23",
   "metadata": {},
   "outputs": [],
   "source": [
    "from sklearn.model_selection import cross_val_score,KFold\n",
    "\n",
    "LR_c = LogisticRegression(tol= 0.0002872485265154782, C= 0.2507602699236452, fit_intercept= True, random_state= 42, solver= 'lbfgs')\n",
    "kf=StratifiedKFold(n_splits=10, random_state=42,shuffle=True)\n",
    "score=cross_val_score(LR_c,X2_train,y2_train,cv=kf, scoring='roc_auc')\n",
    "print(\"Cross Validation Scores are {}\".format(score))\n",
    "print(\"Average Cross Validation score :{}\".format(score.mean()))"
   ]
  },
  {
   "cell_type": "markdown",
   "id": "ad5d4957",
   "metadata": {},
   "source": [
    "## RF"
   ]
  },
  {
   "cell_type": "code",
   "execution_count": null,
   "id": "8c9b15bb",
   "metadata": {},
   "outputs": [],
   "source": [
    "RF_c = RandomForestClassifier(n_estimators= 199, max_depth= 79, random_state= 1, min_samples_split= 14, min_samples_leaf= 10, max_leaf_nodes= 261, bootstrap= True, verbose= 1)\n",
    "RF_c.fit(X2_train, y2_train)"
   ]
  },
  {
   "cell_type": "code",
   "execution_count": null,
   "id": "0d248018",
   "metadata": {},
   "outputs": [],
   "source": [
    "RF_pred_c = RF_c.predict(X2_test)\n",
    "print(accuracy_score(y2_test, RF_pred_c))\n",
    "print(confusion_matrix(y2_test, RF_pred_c))\n",
    "print(classification_report(y2_test, RF_pred_c))\n",
    "pd.crosstab(y2_test, RF_pred_c)"
   ]
  },
  {
   "cell_type": "code",
   "execution_count": null,
   "id": "326a4792",
   "metadata": {},
   "outputs": [],
   "source": [
    "from sklearn.metrics import roc_curve, roc_auc_score\n",
    "from matplotlib import pyplot as plt\n",
    "\n",
    "RF = RF_c.predict_proba(X2_test)[:, 1]\n",
    "roc_auc = roc_auc_score(y2_test, RF)\n",
    "fpr1, tpr1, threshold = roc_curve(y2_test, RF)\n",
    "plt.title('RF Receiver Operating Characteristic')\n",
    "plt.plot(fpr1, tpr1,label = 'AUC = %0.3f' % roc_auc)\n",
    "plt.legend(loc = 'lower right')\n",
    "plt.ylabel('True Positive Rate')\n",
    "plt.xlabel('False Positive Rate')\n",
    "print('RF ROC AUC %.3f' % roc_auc)\n",
    "plt.savefig('RF ROC_curve.jpg')\n",
    "plt.show()"
   ]
  },
  {
   "cell_type": "code",
   "execution_count": null,
   "id": "c6deb5cc",
   "metadata": {},
   "outputs": [],
   "source": [
    "from sklearn.model_selection import cross_val_score,KFold\n",
    "\n",
    "RF_c = RandomForestClassifier(n_estimators= 199, max_depth= 79, random_state= 1, min_samples_split= 14, min_samples_leaf= 10, max_leaf_nodes= 261, bootstrap= True, verbose= 1)\n",
    "kf=StratifiedKFold(n_splits=5, random_state=42,shuffle=True)\n",
    "score=cross_val_score(RF_c,X2_train,y2_train,cv=kf, scoring='roc_auc')\n",
    "print(\"Cross Validation Scores are {}\".format(score))\n",
    "print(\"Average Cross Validation score :{}\".format(score.mean()))\n",
    "from sklearn.model_selection import cross_val_score,KFold"
   ]
  },
  {
   "cell_type": "code",
   "execution_count": null,
   "id": "8c708473",
   "metadata": {},
   "outputs": [],
   "source": [
    "from sklearn.model_selection import cross_val_score,KFold\n",
    "\n",
    "RF_c = RandomForestClassifier(n_estimators= 199, max_depth= 79, random_state= 1, min_samples_split= 14, min_samples_leaf= 10, max_leaf_nodes= 261, bootstrap= True, verbose= 1)\n",
    "kf=StratifiedKFold(n_splits=10, random_state=42,shuffle=True)\n",
    "score=cross_val_score(RF_c,X2_train,y2_train,cv=kf, scoring='roc_auc')\n",
    "print(\"Cross Validation Scores are {}\".format(score))\n",
    "print(\"Average Cross Validation score :{}\".format(score.mean()))"
   ]
  },
  {
   "cell_type": "markdown",
   "id": "03b9b3ec",
   "metadata": {},
   "source": [
    "## XGB"
   ]
  },
  {
   "cell_type": "code",
   "execution_count": null,
   "id": "915a51fb",
   "metadata": {},
   "outputs": [],
   "source": [
    "import xgboost as xgb\n",
    "xg_c = xgb.XGBClassifier(gamma= 1, colsample_bylevel= 1, colsample_bytree= 1, colsample_bynode= 0.6, subsample= 0.9, n_estimators= 173, learning_rate= 0.9, max_delta_step= 9, max_depth= 30, random_state= 131, num_parallel_tree= 155, min_child_weight= 19, verbosity= 1)\n",
    "xg_c.fit(X2_train, y2_train)"
   ]
  },
  {
   "cell_type": "code",
   "execution_count": null,
   "id": "c3cb70c8",
   "metadata": {},
   "outputs": [],
   "source": [
    "xg_pred_c = xg_c.predict(X2_test)\n",
    "print(accuracy_score(y2_test, xg_pred_c))\n",
    "print(confusion_matrix(y2_test, xg_pred_c))\n",
    "print(classification_report(y2_test, xg_pred_c))\n",
    "pd.crosstab(y2_test, xg_pred_c)"
   ]
  },
  {
   "cell_type": "markdown",
   "id": "81414c98",
   "metadata": {},
   "source": [
    "# AUC-ROC"
   ]
  },
  {
   "cell_type": "code",
   "execution_count": null,
   "id": "f39268e6",
   "metadata": {},
   "outputs": [],
   "source": [
    "from sklearn.metrics import roc_curve, roc_auc_score\n",
    "from matplotlib import pyplot as plt\n",
    "\n",
    "xg = xg_c.predict_proba(X2_test)[:, 1]\n",
    "roc_auc = roc_auc_score(y2_test, xg)\n",
    "fpr1, tpr1, threshold = roc_curve(y2_test, xg)\n",
    "plt.title('XGB Receiver Operating Characteristic')\n",
    "plt.plot(fpr1, tpr1,label = 'AUC = %0.3f' % roc_auc)\n",
    "plt.legend(loc = 'lower right')\n",
    "plt.ylabel('True Positive Rate')\n",
    "plt.xlabel('False Positive Rate')\n",
    "print('XGB ROC AUC %.3f' % roc_auc)\n",
    "plt.savefig('XGB ROC_curve.jpg')\n",
    "plt.show()"
   ]
  },
  {
   "cell_type": "markdown",
   "id": "6f6baa49",
   "metadata": {},
   "source": [
    "# Cross validation"
   ]
  },
  {
   "cell_type": "code",
   "execution_count": null,
   "id": "2b3c18c1",
   "metadata": {},
   "outputs": [],
   "source": [
    "xg_c = xgb.XGBClassifier(gamma= 1, colsample_bylevel= 1, colsample_bytree= 1, colsample_bynode= 0.6, subsample= 0.9, n_estimators= 173, learning_rate= 0.9, max_delta_step= 9, max_depth= 30, random_state= 131, num_parallel_tree= 155, min_child_weight= 19, verbosity= 1)\n",
    "kf=StratifiedKFold(n_splits=5, random_state=42,shuffle=True)\n",
    "score=cross_val_score(xg_c,X2_train,y2_train,cv=kf, scoring='roc_auc')\n",
    "print(\"Cross Validation Scores are {}\".format(score))\n",
    "print(\"Average Cross Validation score :{}\".format(score.mean()))"
   ]
  },
  {
   "cell_type": "code",
   "execution_count": null,
   "id": "d24c5f0b",
   "metadata": {},
   "outputs": [],
   "source": [
    "xg_c = xgb.XGBClassifier(gamma= 1, colsample_bylevel= 1, colsample_bytree= 1, colsample_bynode= 0.6, subsample= 0.9, n_estimators= 173, learning_rate= 0.9, max_delta_step= 9, max_depth= 30, random_state= 131, num_parallel_tree= 155, min_child_weight= 19, verbosity= 1)\n",
    "kf=StratifiedKFold(n_splits=10, random_state=42,shuffle=True)\n",
    "score=cross_val_score(xg_c,X2_train,y2_train,cv=kf, scoring='roc_auc')\n",
    "print(\"Cross Validation Scores are {}\".format(score))\n",
    "print(\"Average Cross Validation score :{}\".format(score.mean()))"
   ]
  },
  {
   "cell_type": "markdown",
   "id": "66329363",
   "metadata": {},
   "source": [
    "## DT"
   ]
  },
  {
   "cell_type": "code",
   "execution_count": null,
   "id": "25742367",
   "metadata": {},
   "outputs": [],
   "source": [
    "DT_c = DecisionTreeClassifier(min_weight_fraction_leaf= 0, max_depth= 33, random_state= 66, min_samples_split= 24, min_samples_leaf= 4, max_leaf_nodes= 21, criterion= 'gini', splitter= 'best')\n",
    "DT_c.fit(X2_train, y2_train)"
   ]
  },
  {
   "cell_type": "code",
   "execution_count": null,
   "id": "6a710520",
   "metadata": {},
   "outputs": [],
   "source": [
    "DT_predict_c = DT_c.predict(X2_test)\n",
    "print('Accuracy_score=',(accuracy_score(y2_test, DT_predict_c)))\n",
    "print((confusion_matrix(y2_test, DT_predict_c)))\n",
    "print(classification_report(y2_test, DT_predict_c))\n",
    "pd.crosstab(y2_test, DT_predict_c)"
   ]
  },
  {
   "cell_type": "markdown",
   "id": "6be7ef00",
   "metadata": {},
   "source": [
    "# AUC-ROC"
   ]
  },
  {
   "cell_type": "code",
   "execution_count": null,
   "id": "45bbf0f4",
   "metadata": {},
   "outputs": [],
   "source": [
    "from sklearn.metrics import roc_curve, roc_auc_score\n",
    "from matplotlib import pyplot as plt\n",
    "\n",
    "DT = DT_c.predict_proba(X2_test)[:, 1]\n",
    "roc_auc = roc_auc_score(y2_test, DT)\n",
    "fpr1, tpr1, threshold = roc_curve(y2_test, DT)\n",
    "plt.title('DT Receiver Operating Characteristic')\n",
    "plt.plot(fpr1, tpr1,label = 'AUC = %0.3f' % roc_auc)\n",
    "plt.legend(loc = 'lower right')\n",
    "plt.ylabel('True Positive Rate')\n",
    "plt.xlabel('False Positive Rate')\n",
    "print('DT ROC AUC %.3f' % roc_auc)\n",
    "plt.savefig('DT ROC_curve.jpg')\n",
    "plt.show()"
   ]
  },
  {
   "cell_type": "markdown",
   "id": "da32f1e3",
   "metadata": {},
   "source": [
    "# Cross val"
   ]
  },
  {
   "cell_type": "code",
   "execution_count": null,
   "id": "6ec3e727",
   "metadata": {},
   "outputs": [],
   "source": [
    "DT_c = DecisionTreeClassifier(min_weight_fraction_leaf= 0, max_depth= 33, random_state= 66, min_samples_split= 24, min_samples_leaf= 4, max_leaf_nodes= 21, criterion= 'gini', splitter= 'best')\n",
    "kf=StratifiedKFold(n_splits=5, random_state=42,shuffle=True)\n",
    "score=cross_val_score(DT_c,X2_train,y2_train,cv=kf, scoring='roc_auc')\n",
    "print(\"Cross Validation Scores are {}\".format(score))\n",
    "print(\"Average Cross Validation score :{}\".format(score.mean()))"
   ]
  },
  {
   "cell_type": "code",
   "execution_count": null,
   "id": "f4be5cae",
   "metadata": {},
   "outputs": [],
   "source": [
    "DT_c = DecisionTreeClassifier(min_weight_fraction_leaf= 0, max_depth= 33, random_state= 66, min_samples_split= 24, min_samples_leaf= 4, max_leaf_nodes= 21, criterion= 'gini', splitter= 'best')\n",
    "kf=StratifiedKFold(n_splits=10, random_state=42,shuffle=True)\n",
    "score=cross_val_score(DT_c,X2_train,y2_train,cv=kf, scoring='roc_auc')\n",
    "print(\"Cross Validation Scores are {}\".format(score))\n",
    "print(\"Average Cross Validation score :{}\".format(score.mean()))"
   ]
  },
  {
   "cell_type": "markdown",
   "id": "b95c825e",
   "metadata": {},
   "source": [
    "## NB"
   ]
  },
  {
   "cell_type": "code",
   "execution_count": null,
   "id": "5b09e2ce",
   "metadata": {},
   "outputs": [],
   "source": [
    "NB_c = GaussianNB(priors= None, var_smoothing= 0) \n",
    "NB_c.fit(X2_train, y2_train)"
   ]
  },
  {
   "cell_type": "code",
   "execution_count": null,
   "id": "d8e3d469",
   "metadata": {
    "scrolled": true
   },
   "outputs": [],
   "source": [
    "NB_pred_c = NB_c.predict(X2_test)\n",
    "print('Accuracy_score=',(accuracy_score(y2_test, NB_pred_c)))\n",
    "print((confusion_matrix(y2_test, NB_pred_c)))\n",
    "print(classification_report(y2_test, NB_pred_c))\n",
    "pd.crosstab(y2_test, NB_pred_c)"
   ]
  },
  {
   "cell_type": "markdown",
   "id": "499d6961",
   "metadata": {},
   "source": [
    "# AUC-ROC"
   ]
  },
  {
   "cell_type": "code",
   "execution_count": null,
   "id": "387baffc",
   "metadata": {},
   "outputs": [],
   "source": [
    "from sklearn.metrics import roc_curve, roc_auc_score\n",
    "from matplotlib import pyplot as plt\n",
    "\n",
    "NB = NB_c.predict_proba(X2_test)[:, 1]\n",
    "roc_auc = roc_auc_score(y2_test, NB)\n",
    "fpr1, tpr1, threshold = roc_curve(y2_test, NB)\n",
    "plt.title('NB Receiver Operating Characteristic')\n",
    "plt.plot(fpr1, tpr1,label = 'AUC = %0.3f' % roc_auc)\n",
    "plt.legend(loc = 'lower right')\n",
    "plt.ylabel('True Positive Rate')\n",
    "plt.xlabel('False Positive Rate')\n",
    "print('NB ROC AUC %.3f' % roc_auc)\n",
    "plt.savefig('NB ROC_curve.jpg')\n",
    "plt.show()"
   ]
  },
  {
   "cell_type": "markdown",
   "id": "534a5f37",
   "metadata": {},
   "source": [
    "# Cross Val"
   ]
  },
  {
   "cell_type": "code",
   "execution_count": null,
   "id": "93da0eac",
   "metadata": {},
   "outputs": [],
   "source": [
    "NB_c = GaussianNB(priors= None, var_smoothing= 0)\n",
    "kf=StratifiedKFold(n_splits=5, random_state=42,shuffle=True)\n",
    "score=cross_val_score(NB_c, X2_train,y2_train, cv=kf, scoring='roc_auc' )\n",
    "print(\"Cross Validation Scores are {}\".format(score))\n",
    "print(\"Average Cross Validation score :{}\".format(score.mean()))"
   ]
  },
  {
   "cell_type": "code",
   "execution_count": null,
   "id": "c7de0ead",
   "metadata": {},
   "outputs": [],
   "source": [
    "NB_c = GaussianNB(priors= None, var_smoothing= 0)\n",
    "kf=StratifiedKFold(n_splits=10, random_state=42,shuffle=True)\n",
    "score=cross_val_score(NB_c, X2_train,y2_train, cv=kf, scoring='roc_auc')\n",
    "print(\"Cross Validation Scores are {}\".format(score))\n",
    "print(\"Average Cross Validation score :{}\".format(score.mean()))"
   ]
  },
  {
   "cell_type": "markdown",
   "id": "2f62d60d",
   "metadata": {},
   "source": [
    "## SVM"
   ]
  },
  {
   "cell_type": "code",
   "execution_count": null,
   "id": "cbfe12a2",
   "metadata": {},
   "outputs": [],
   "source": [
    "from sklearn import svm\n",
    "\n",
    "SV_c = svm.SVC(C= 0.012300586651659302, kernel= 'linear', gamma= 0.023918109379818128, probability=True)\n",
    "SV_c.fit(X2_train, y2_train)"
   ]
  },
  {
   "cell_type": "code",
   "execution_count": null,
   "id": "36abe5c0",
   "metadata": {
    "scrolled": false
   },
   "outputs": [],
   "source": [
    "svm_c = SV_c.predict(X2_test)\n",
    "print(\"Accuracy:\",accuracy_score(y2_test, svm_c))\n",
    "print((confusion_matrix(y2_test, svm_c)))\n",
    "print(classification_report(y2_test, svm_c))\n",
    "pd.crosstab(y2_test, svm_c)"
   ]
  },
  {
   "cell_type": "markdown",
   "id": "a841424f",
   "metadata": {},
   "source": [
    "# AUC-ROC"
   ]
  },
  {
   "cell_type": "code",
   "execution_count": null,
   "id": "6d4c9907",
   "metadata": {},
   "outputs": [],
   "source": [
    "from sklearn.metrics import roc_curve, roc_auc_score\n",
    "from matplotlib import pyplot as plt\n",
    "\n",
    "SVM = SV_c.predict_proba(X2_test)[:, 1]\n",
    "roc_auc = roc_auc_score(y2_test, SVM)\n",
    "fpr1, tpr1, threshold = roc_curve(y2_test, SVM)\n",
    "plt.title('SVM Receiver Operating Characteristic')\n",
    "plt.plot(fpr1, tpr1,label = 'AUC = %0.3f' % roc_auc)\n",
    "plt.legend(loc = 'lower right')\n",
    "plt.ylabel('True Positive Rate')\n",
    "plt.xlabel('False Positive Rate')\n",
    "print('SVM ROC AUC %.3f' % roc_auc)\n",
    "plt.savefig('SVM ROC_curve.jpg')\n",
    "plt.show()"
   ]
  },
  {
   "cell_type": "markdown",
   "id": "25470669",
   "metadata": {},
   "source": [
    "# Cross Val"
   ]
  },
  {
   "cell_type": "code",
   "execution_count": null,
   "id": "d1956e4e",
   "metadata": {},
   "outputs": [],
   "source": [
    "SV_c = svm.SVC(C= 0.012300586651659302, kernel= 'linear', gamma= 0.023918109379818128)\n",
    "kf=StratifiedKFold(n_splits=5, random_state=42,shuffle=True)\n",
    "score=cross_val_score(SV_c,X2_train,y2_train, cv=kf, scoring='roc_auc')\n",
    "print(\"Cross Validation Scores are {}\".format(score))\n",
    "print(\"Average Cross Validation score :{}\".format(score.mean()))"
   ]
  },
  {
   "cell_type": "code",
   "execution_count": null,
   "id": "04564e9d",
   "metadata": {},
   "outputs": [],
   "source": [
    "SV_c = svm.SVC(C= 0.012300586651659302, kernel= 'linear', gamma= 0.023918109379818128)\n",
    "kf=StratifiedKFold(n_splits=10, random_state=42,shuffle=True)\n",
    "score=cross_val_score(SV_c, X2_train,y2_train, cv=kf, scoring='roc_auc')\n",
    "print(\"Cross Validation Scores are {}\".format(score))\n",
    "print(\"Average Cross Validation score :{}\".format(score.mean()))"
   ]
  },
  {
   "cell_type": "markdown",
   "id": "5beae0fe",
   "metadata": {},
   "source": [
    "## ANN"
   ]
  },
  {
   "cell_type": "code",
   "execution_count": null,
   "id": "d17f8d54",
   "metadata": {},
   "outputs": [],
   "source": [
    "from sklearn.neural_network import MLPClassifier"
   ]
  },
  {
   "cell_type": "code",
   "execution_count": null,
   "id": "150a6c07",
   "metadata": {},
   "outputs": [],
   "source": [
    "NN_cf = MLPClassifier(hidden_layer_sizes= 152, activation= 'relu', solver= 'adam', alpha= 0.00015529246552986592, learning_rate_init= 0.0006044787294862748, max_iter= 200, random_state= 42)\n",
    "NN_cf.fit(X2_train, y2_train)"
   ]
  },
  {
   "cell_type": "code",
   "execution_count": null,
   "id": "33b41c3e",
   "metadata": {
    "scrolled": true
   },
   "outputs": [],
   "source": [
    "ANN_c = NN_cf.predict(X2_test)\n",
    "print(accuracy_score(y2_test, ANN_c))\n",
    "print(classification_report(y2_test, ANN_c))\n",
    "pd.crosstab(y2_test, ANN_c)"
   ]
  },
  {
   "cell_type": "markdown",
   "id": "037f66c2",
   "metadata": {},
   "source": [
    "# AUC-ROC"
   ]
  },
  {
   "cell_type": "code",
   "execution_count": null,
   "id": "3496bfe3",
   "metadata": {},
   "outputs": [],
   "source": [
    "from sklearn.metrics import roc_curve, roc_auc_score\n",
    "from matplotlib import pyplot as plt\n",
    "\n",
    "NN = NN_cf.predict_proba(X2_test)[:, 1]\n",
    "roc_auc = roc_auc_score(y2_test, NN)\n",
    "fpr1, tpr1, threshold = roc_curve(y2_test, NN)\n",
    "plt.title('NN Receiver Operating Characteristic')\n",
    "plt.plot(fpr1, tpr1,label = 'AUC = %0.3f' % roc_auc)\n",
    "plt.legend(loc = 'lower right')\n",
    "plt.ylabel('True Positive Rate')\n",
    "plt.xlabel('False Positive Rate')\n",
    "print('NN ROC AUC %.3f' % roc_auc)\n",
    "plt.savefig('NN ROC_curve.jpg')\n",
    "plt.show()"
   ]
  },
  {
   "cell_type": "markdown",
   "id": "25baccd8",
   "metadata": {},
   "source": [
    "# Cross Val"
   ]
  },
  {
   "cell_type": "code",
   "execution_count": null,
   "id": "1bd69463",
   "metadata": {},
   "outputs": [],
   "source": [
    "NN_cf = MLPClassifier(hidden_layer_sizes= 152, activation= 'relu', solver= 'adam', alpha= 0.00015529246552986592, learning_rate_init= 0.0006044787294862748, max_iter= 200, random_state= 42)\n",
    "kf=StratifiedKFold(n_splits=5, random_state=42,shuffle=True)\n",
    "score=cross_val_score(NN_cf, X2_train,y2_train, cv=kf, scoring='roc_auc')\n",
    "print(\"Cross Validation Scores are {}\".format(score))\n",
    "print(\"Average Cross Validation score :{}\".format(score.mean()))"
   ]
  },
  {
   "cell_type": "code",
   "execution_count": null,
   "id": "68e1a503",
   "metadata": {},
   "outputs": [],
   "source": [
    "NN_cf = MLPClassifier(hidden_layer_sizes= 152, activation= 'relu', solver= 'adam', alpha= 0.00015529246552986592, learning_rate_init= 0.0006044787294862748, max_iter= 200, random_state= 42)\n",
    "kf=StratifiedKFold(n_splits=10, random_state=42,shuffle=True)\n",
    "score=cross_val_score(NN_cf,X2_train,y2_train, cv=kf, scoring='roc_auc')\n",
    "print(\"Cross Validation Scores are {}\".format(score))\n",
    "print(\"Average Cross Validation score :{}\".format(score.mean()))"
   ]
  },
  {
   "cell_type": "markdown",
   "id": "62a4fa0b",
   "metadata": {},
   "source": [
    "# XGBRF"
   ]
  },
  {
   "cell_type": "code",
   "execution_count": null,
   "id": "25d4ec32",
   "metadata": {
    "scrolled": true
   },
   "outputs": [],
   "source": [
    "from xgboost import XGBRFClassifier\n",
    "xgbrf_c = XGBRFClassifier(colsample_bylevel= 0.7925507241456118, colsample_bytree= 0.9554889058169239, gamma= 0.39864754821171, max_delta_step= 1, max_depth= 10, min_child_weight= 1, n_estimators= 181, num_parallel_tree= 8, reg_alpha= 0.6056467523570456, scale_pos_weight= 1.6055505228911027)\n",
    "xgbrf_c.fit(X2_train,y2_train)"
   ]
  },
  {
   "cell_type": "code",
   "execution_count": null,
   "id": "555fb4a7",
   "metadata": {
    "scrolled": true
   },
   "outputs": [],
   "source": [
    "y_predict = xgbrf_c.predict(X2_test)\n",
    "print(classification_report(y2_test, y_predict))\n",
    "print(accuracy_score(y2_test, y_predict))\n",
    "print((confusion_matrix(y2_test, y_predict)))\n",
    "pd.crosstab(y2_test, y_predict)"
   ]
  },
  {
   "cell_type": "markdown",
   "id": "7fa7ddd3",
   "metadata": {},
   "source": [
    "# AUC-ROC"
   ]
  },
  {
   "cell_type": "code",
   "execution_count": null,
   "id": "c8c7f4df",
   "metadata": {},
   "outputs": [],
   "source": [
    "from sklearn.metrics import roc_curve, roc_auc_score\n",
    "from matplotlib import pyplot as plt\n",
    "\n",
    "XGBRF = xgbrf_c.predict_proba(X2_test)[:, 1]\n",
    "roc_auc = roc_auc_score(y2_test, XGBRF)\n",
    "fpr1, tpr1, threshold = roc_curve(y2_test, XGBRF)\n",
    "plt.title('XGBRF Receiver Operating Characteristic')\n",
    "plt.plot(fpr1, tpr1,label = 'AUC = %0.3f' % roc_auc)\n",
    "plt.legend(loc = 'lower right')\n",
    "plt.ylabel('True Positive Rate')\n",
    "plt.xlabel('False Positive Rate')\n",
    "print('XGBRF ROC AUC %.3f' % roc_auc)\n",
    "plt.savefig('XGBRF ROC_curve.jpg')\n",
    "plt.show()"
   ]
  },
  {
   "cell_type": "markdown",
   "id": "b8294da2",
   "metadata": {},
   "source": [
    "# Cross Val"
   ]
  },
  {
   "cell_type": "code",
   "execution_count": null,
   "id": "7ac9220f",
   "metadata": {},
   "outputs": [],
   "source": [
    "xgbrf_c = XGBRFClassifier(colsample_bylevel= 0.7925507241456118, colsample_bytree= 0.9554889058169239, gamma= 0.39864754821171, max_delta_step= 1, max_depth= 10, min_child_weight= 1, n_estimators= 181, num_parallel_tree= 8, reg_alpha= 0.6056467523570456, scale_pos_weight= 1.6055505228911027)\n",
    "kf=StratifiedKFold(n_splits=5, random_state=42,shuffle=True)\n",
    "score=cross_val_score(xgbrf_c, X2_train,y2_train, cv=kf, scoring='roc_auc')\n",
    "print(\"Cross Validation Scores are {}\".format(score))\n",
    "print(\"Average Cross Validation score :{}\".format(score.mean()))"
   ]
  },
  {
   "cell_type": "code",
   "execution_count": null,
   "id": "e4224b1e",
   "metadata": {},
   "outputs": [],
   "source": [
    "xgbrf_c = XGBRFClassifier(colsample_bylevel= 0.7925507241456118, colsample_bytree= 0.9554889058169239, gamma= 0.39864754821171, max_delta_step= 1, max_depth= 10, min_child_weight= 1, n_estimators= 181, num_parallel_tree= 8, reg_alpha= 0.6056467523570456, scale_pos_weight= 1.6055505228911027)\n",
    "kf=StratifiedKFold(n_splits=10, random_state=42,shuffle=True)\n",
    "score=cross_val_score(xgbrf_c, X2_train,y2_train, cv=kf, scoring='roc_auc')\n",
    "print(\"Cross Validation Scores are {}\".format(score))\n",
    "print(\"Average Cross Validation score :{}\".format(score.mean()))"
   ]
  },
  {
   "cell_type": "markdown",
   "id": "24f45cb2",
   "metadata": {},
   "source": [
    "# AUC-ROC-Tunned Parameters"
   ]
  },
  {
   "cell_type": "code",
   "execution_count": null,
   "id": "c727a9a1",
   "metadata": {},
   "outputs": [],
   "source": [
    "LR_c.fit(X2_train, y2_train)\n",
    "RF_c.fit(X2_train, y2_train)\n",
    "xg_c.fit(X2_train, y2_train)\n",
    "DT_c.fit(X2_train, y2_train)\n",
    "NB_c.fit(X2_train, y2_train)\n",
    "SV_c.fit(X2_train, y2_train)\n",
    "NN_cf.fit(X2_train, y2_train)\n",
    "xgbrf_c.fit(X2_train, y2_train)"
   ]
  },
  {
   "cell_type": "code",
   "execution_count": null,
   "id": "604306d5",
   "metadata": {
    "scrolled": true
   },
   "outputs": [],
   "source": [
    "import matplotlib.pyplot as plt\n",
    "from sklearn.metrics import roc_curve, roc_auc_score\n",
    "\n",
    "# Assuming you have your models and test data defined:\n",
    "# LR_c, RF_c, xg_c, DT_c, NB_c, SV_c, NN_cf, xgbrf_c, x1_test, y1_test\n",
    "\n",
    "# Dictionary to store model names and their predictions\n",
    "models = {\n",
    "    \"Logistic Regression\": LR_c,\n",
    "    \"XGBoost\": xg_c,\n",
    "    \"Random Forest\": RF_c,\n",
    "    \"Decision Tree\": DT_c,\n",
    "    \"Naive Bayes\": NB_c,\n",
    "    \"SVM\": SV_c,\n",
    "    \"ANN\": NN_cf,\n",
    "    \"XGBRF\": xgbrf_c,\n",
    "}\n",
    "\n",
    "plt.figure(figsize=(10, 8))  # Adjust figure size as needed\n",
    "\n",
    "for name, model in models.items():\n",
    "    try:\n",
    "        y_pred_proba = model.predict_proba(X2_test)[:, 1]\n",
    "        fpr, tpr, _ = roc_curve(y2_test, y_pred_proba)\n",
    "        auc = roc_auc_score(y2_test, y_pred_proba)\n",
    "        plt.plot(fpr, tpr, label=f'{name} AUC = {auc:.3f}')\n",
    "        print(f'{name} ROC AUC: {auc:.3f}')\n",
    "    except AttributeError:\n",
    "        #Handle SVM, which can lack predict_proba.\n",
    "        y_pred = model.decision_function(X2_test) #use decision_function\n",
    "        fpr, tpr, _ = roc_curve(y2_test, y_pred)\n",
    "        auc = roc_auc_score(y2_test, y_pred)\n",
    "        plt.plot(fpr, tpr, label=f'{name} AUC = {auc:.3f}')\n",
    "        print(f'{name} ROC AUC: {auc:.3f}')\n",
    "\n",
    "plt.plot([0, 1], [0, 1], \"k--\", label=\"Baseline\")  # Add random classifier line\n",
    "plt.xlabel('False Positive Rate')\n",
    "plt.ylabel('True Positive Rate')\n",
    "plt.title('Receiver Operating Characteristic (ROC) Curves')\n",
    "plt.legend(loc='lower right')\n",
    "plt.savefig('all_models_roc_curve.png') #save the figure\n",
    "plt.show()"
   ]
  },
  {
   "cell_type": "markdown",
   "id": "3a33001b",
   "metadata": {},
   "source": [
    "# Missing values - Test Set"
   ]
  },
  {
   "cell_type": "code",
   "execution_count": null,
   "id": "6b81041e",
   "metadata": {},
   "outputs": [],
   "source": [
    "df2 = pd.read_csv('4_Testset_ml_ido_tdo.csv')\n",
    "df2.head(2)"
   ]
  },
  {
   "cell_type": "code",
   "execution_count": null,
   "id": "7e641b04",
   "metadata": {},
   "outputs": [],
   "source": [
    "df2.shape\n",
    "df2.info()"
   ]
  },
  {
   "cell_type": "code",
   "execution_count": null,
   "id": "f7520222",
   "metadata": {
    "scrolled": true
   },
   "outputs": [],
   "source": [
    "df2['Activity'].value_counts()"
   ]
  },
  {
   "cell_type": "code",
   "execution_count": null,
   "id": "634345f9",
   "metadata": {},
   "outputs": [],
   "source": [
    "# To calculate the missing values in each column\n",
    "\n",
    "percent_missing = df2.isnull().sum() * 100 / len(df2)\n",
    "missing_value_df = pd.DataFrame({'column_name': df2.columns,\n",
    "                                 'percent_missing': percent_missing})\n",
    "missing_value_df.sort_values('percent_missing', inplace=True)\n",
    "with pd.option_context('display.max_rows', None,\n",
    "                       'display.max_columns', None,\n",
    "                       'display.precision', 3,\n",
    "                       ):\n",
    "    print(percent_missing)"
   ]
  },
  {
   "cell_type": "code",
   "execution_count": null,
   "id": "c7856dc5",
   "metadata": {},
   "outputs": [],
   "source": [
    "df2.shape"
   ]
  },
  {
   "cell_type": "code",
   "execution_count": null,
   "id": "171f6af6",
   "metadata": {},
   "outputs": [],
   "source": [
    "cols = ['BCUTw-1h','BCUTc-1l','BCUTc-1h','BCUTp-1l','BCUTp-1h','SCH-7','VCH-7','SC-3','SC-5','VC-3','SPC-4','SPC-5','SPC-6','VPC-4','VPC-5','VPC-6','SP-0','SP-1','SP-2','SP-3','SP-4','SP-5','SP-6','SP-7','VP-0','VP-1','VP-2','VP-3','VP-4','VP-5','VP-6','VP-7','VABC']\n",
    "df2[cols].mean()"
   ]
  },
  {
   "cell_type": "code",
   "execution_count": null,
   "id": "63356926",
   "metadata": {},
   "outputs": [],
   "source": [
    "# List of columns to fill with mean values\n",
    "cols = ['BCUTw-1h', 'BCUTc-1l', 'BCUTc-1h', 'BCUTp-1l', 'BCUTp-1h', 'SCH-7', 'VCH-7', 'SC-3', 'SC-5', 'VC-3', 'SPC-4', 'SPC-5', 'SPC-6', 'VPC-4', 'VPC-5', 'VPC-6', 'SP-0', 'SP-1', 'SP-2', 'SP-3', 'SP-4', 'SP-5', 'SP-6', 'SP-7', 'VP-0', 'VP-1', 'VP-2', 'VP-3', 'VP-4', 'VP-5', 'VP-6', 'VP-7', 'VABC']\n",
    "# Fill missing values with column-wise means\n",
    "df2[cols] = df2[cols].fillna(df2[cols].mean())\n",
    "# Now, all missing values in the specified columns will be filled with their respective mean values"
   ]
  },
  {
   "cell_type": "code",
   "execution_count": null,
   "id": "5f2ab326",
   "metadata": {
    "scrolled": true
   },
   "outputs": [],
   "source": [
    "df2.isnull().sum()"
   ]
  },
  {
   "cell_type": "code",
   "execution_count": null,
   "id": "5ae5f0a3",
   "metadata": {},
   "outputs": [],
   "source": [
    "# Export the DataFrame to a CSV file\n",
    "df2.to_csv('output_test_final_missi_val.csv', index=False)  "
   ]
  },
  {
   "cell_type": "markdown",
   "id": "bb0e2cc5",
   "metadata": {},
   "source": [
    "# External Validation"
   ]
  },
  {
   "cell_type": "code",
   "execution_count": null,
   "id": "a635a05a",
   "metadata": {},
   "outputs": [],
   "source": [
    "#Import the external validation dataset (output_test_final_missi_val.csv) that contains only the RFECV features\n",
    "\n",
    "df3 = pd.read_csv('6_Ext_val_xgbrf_test_rfecv.csv')\n",
    "df3.head()"
   ]
  },
  {
   "cell_type": "code",
   "execution_count": null,
   "id": "86c29e64",
   "metadata": {},
   "outputs": [],
   "source": [
    "X3 = df3.drop(['Activity'], axis=1)  # Features\n",
    "y3 = df3['Activity']  # Labels"
   ]
  },
  {
   "cell_type": "markdown",
   "id": "74a6ce38",
   "metadata": {},
   "source": [
    "## LR"
   ]
  },
  {
   "cell_type": "code",
   "execution_count": null,
   "id": "ea09772f",
   "metadata": {},
   "outputs": [],
   "source": [
    "LR_c.fit(X3, y3)"
   ]
  },
  {
   "cell_type": "code",
   "execution_count": null,
   "id": "ca60bcbd",
   "metadata": {
    "scrolled": true
   },
   "outputs": [],
   "source": [
    "LR_predict_c = LR_c.predict(X3)\n",
    "print('Accuracy_score=',(accuracy_score(y3, LR_predict_c)))\n",
    "print((confusion_matrix(y3, LR_predict_c)))\n",
    "print(classification_report(y3, LR_predict_c))\n",
    "pd.crosstab(y3, LR_predict_c)"
   ]
  },
  {
   "cell_type": "markdown",
   "id": "9efc900c",
   "metadata": {},
   "source": [
    "## AUC-ROC"
   ]
  },
  {
   "cell_type": "code",
   "execution_count": null,
   "id": "daa6f936",
   "metadata": {},
   "outputs": [],
   "source": [
    "from sklearn.metrics import roc_curve, roc_auc_score\n",
    "from matplotlib import pyplot as plt\n",
    "LR1 = LR_c.predict_proba(X3)[:, 1]\n",
    "roc_auc_ext = roc_auc_score(y3, LR1)\n",
    "fpr1, tpr1, threshold = roc_curve(y3, LR1)\n",
    "plt.title('LR Receiver Operating Characteristic')\n",
    "plt.plot(fpr1, tpr1,label = 'AUC = %0.3f' % roc_auc_ext)\n",
    "plt.legend(loc = 'lower right')\n",
    "plt.ylabel('True Positive Rate')\n",
    "plt.xlabel('False Positive Rate')\n",
    "print('LR ROC AUC %.3f' % roc_auc_ext)\n",
    "plt.savefig('LR ROC_curve.jpg')\n",
    "plt.show()"
   ]
  },
  {
   "cell_type": "code",
   "execution_count": null,
   "id": "20bda4ef",
   "metadata": {
    "scrolled": true
   },
   "outputs": [],
   "source": [
    "from sklearn.model_selection import cross_val_score,KFold\n",
    "\n",
    "LR = LogisticRegression(tol= 0.0002872485265154782, C= 0.2507602699236452, fit_intercept= True, random_state= 42, solver= 'lbfgs')\n",
    "kf=StratifiedKFold(n_splits=5, random_state=42,shuffle=True)\n",
    "score=cross_val_score(LR,X3,y3,cv=kf, scoring='roc_auc')\n",
    "print(\"Cross Validation Scores are {}\".format(score))\n",
    "print(\"Average Cross Validation score :{}\".format(score.mean()))"
   ]
  },
  {
   "cell_type": "code",
   "execution_count": null,
   "id": "7d72d248",
   "metadata": {},
   "outputs": [],
   "source": [
    "from sklearn.model_selection import cross_val_score,KFold\n",
    "\n",
    "LR = LogisticRegression(tol= 0.0002872485265154782, C= 0.2507602699236452, fit_intercept= True, random_state= 42, solver= 'lbfgs')\n",
    "kf=StratifiedKFold(n_splits=10, random_state=42,shuffle=True)\n",
    "score=cross_val_score(LR,X3,y3,cv=kf, scoring='roc_auc')\n",
    "print(\"Cross Validation Scores are {}\".format(score))\n",
    "print(\"Average Cross Validation score :{}\".format(score.mean()))"
   ]
  },
  {
   "cell_type": "markdown",
   "id": "7c70e2ed",
   "metadata": {},
   "source": [
    "## XGB"
   ]
  },
  {
   "cell_type": "code",
   "execution_count": null,
   "id": "002820a2",
   "metadata": {
    "scrolled": true
   },
   "outputs": [],
   "source": [
    "xg_c.fit(X3, y3)"
   ]
  },
  {
   "cell_type": "code",
   "execution_count": null,
   "id": "d7531084",
   "metadata": {},
   "outputs": [],
   "source": [
    "xg_pred_c = xg_c.predict(X3)\n",
    "print(accuracy_score(y3, xg_pred_c))\n",
    "print(confusion_matrix(y3, xg_pred_c))\n",
    "print(classification_report(y3, xg_pred_c))\n",
    "pd.crosstab(y3, xg_pred_c)"
   ]
  },
  {
   "cell_type": "code",
   "execution_count": null,
   "id": "e19989eb",
   "metadata": {},
   "outputs": [],
   "source": [
    "from sklearn.metrics import roc_curve, roc_auc_score\n",
    "from matplotlib import pyplot as plt\n",
    "\n",
    "xg_ex = xg_c.predict_proba(X3)[:, 1]\n",
    "roc_auc = roc_auc_score(y3, xg_ex)\n",
    "fpr1, tpr1, threshold = roc_curve(y3, xg_ex)\n",
    "plt.title('XGB Receiver Operating Characteristic')\n",
    "plt.plot(fpr1, tpr1,label = 'AUC = %0.3f' % roc_auc)\n",
    "plt.legend(loc = 'lower right')\n",
    "plt.ylabel('True Positive Rate')\n",
    "plt.xlabel('False Positive Rate')\n",
    "print('XGB ROC AUC %.3f' % roc_auc)\n",
    "plt.savefig('XGB ROC_curve.jpg')\n",
    "plt.show()"
   ]
  },
  {
   "cell_type": "code",
   "execution_count": null,
   "id": "2f23cd9c",
   "metadata": {},
   "outputs": [],
   "source": [
    "xg_c = xgb.XGBClassifier(gamma= 1, colsample_bylevel= 1, colsample_bytree= 1, colsample_bynode= 0.6, subsample= 0.9, n_estimators= 173, learning_rate= 0.9, max_delta_step= 9, max_depth= 30, random_state= 131, num_parallel_tree= 155, min_child_weight= 19, verbosity= 1)\n",
    "kf=KFold(n_splits=5, random_state=42,shuffle=True)\n",
    "score=cross_val_score(xg_c,X3,y3,cv=kf, scoring='roc_auc')\n",
    "print(\"Cross Validation Scores are {}\".format(score))\n",
    "print(\"Average Cross Validation score :{}\".format(score.mean()))"
   ]
  },
  {
   "cell_type": "code",
   "execution_count": null,
   "id": "dc464b98",
   "metadata": {},
   "outputs": [],
   "source": [
    "xg_c = xgb.XGBClassifier(gamma= 1, colsample_bylevel= 1, colsample_bytree= 1, colsample_bynode= 0.6, subsample= 0.9, n_estimators= 173, learning_rate= 0.9, max_delta_step= 9, max_depth= 30, random_state= 131, num_parallel_tree= 155, min_child_weight= 19, verbosity= 1)\n",
    "kf=KFold(n_splits=10, random_state=42,shuffle=True)\n",
    "score=cross_val_score(xg_c,X3,y3,cv=kf, scoring='roc_auc')\n",
    "print(\"Cross Validation Scores are {}\".format(score))\n",
    "print(\"Average Cross Validation score :{}\".format(score.mean()))"
   ]
  },
  {
   "cell_type": "markdown",
   "id": "56576e66",
   "metadata": {},
   "source": [
    "## RF"
   ]
  },
  {
   "cell_type": "code",
   "execution_count": null,
   "id": "d4f1ab3a",
   "metadata": {},
   "outputs": [],
   "source": [
    "RF_c.fit(X3, y3)"
   ]
  },
  {
   "cell_type": "code",
   "execution_count": null,
   "id": "64dfb4ab",
   "metadata": {},
   "outputs": [],
   "source": [
    "RF_pred_c = RF_c.predict(X3)\n",
    "print(accuracy_score(y3, RF_pred_c))\n",
    "print(confusion_matrix(y3, RF_pred_c))\n",
    "print(classification_report(y3, RF_pred_c))\n",
    "pd.crosstab(y3, RF_pred_c)"
   ]
  },
  {
   "cell_type": "code",
   "execution_count": null,
   "id": "22c44d2f",
   "metadata": {},
   "outputs": [],
   "source": [
    "from sklearn.metrics import roc_curve, roc_auc_score\n",
    "from matplotlib import pyplot as plt\n",
    "\n",
    "RF = RF_c.predict_proba(X3)[:, 1]\n",
    "roc_auc = roc_auc_score(y3, RF)\n",
    "fpr1, tpr1, threshold = roc_curve(y3, RF)\n",
    "plt.title('RF Receiver Operating Characteristic')\n",
    "plt.plot(fpr1, tpr1,label = 'AUC = %0.3f' % roc_auc)\n",
    "plt.legend(loc = 'lower right')\n",
    "plt.ylabel('True Positive Rate')\n",
    "plt.xlabel('False Positive Rate')\n",
    "print('RF ROC AUC %.3f' % roc_auc)\n",
    "plt.savefig('RF ROC_curve.jpg')\n",
    "plt.show()"
   ]
  },
  {
   "cell_type": "code",
   "execution_count": null,
   "id": "d63961ae",
   "metadata": {},
   "outputs": [],
   "source": [
    "from sklearn.model_selection import cross_val_score,KFold\n",
    "\n",
    "RF_c = RandomForestClassifier(n_estimators= 199, max_depth= 79, random_state= 1, min_samples_split= 14, min_samples_leaf= 10, max_leaf_nodes= 261, bootstrap= True, verbose= 1)\n",
    "kf=StratifiedKFold(n_splits=5, random_state=42,shuffle=True)\n",
    "score=cross_val_score(RF_c,X3,y3,cv=kf, scoring='roc_auc')\n",
    "print(\"Cross Validation Scores are {}\".format(score))\n",
    "print(\"Average Cross Validation score :{}\".format(score.mean()))\n"
   ]
  },
  {
   "cell_type": "code",
   "execution_count": null,
   "id": "6720a956",
   "metadata": {},
   "outputs": [],
   "source": [
    "from sklearn.model_selection import cross_val_score,KFold\n",
    "\n",
    "RF_c = RandomForestClassifier(n_estimators= 199, max_depth= 79, random_state= 1, min_samples_split= 14, min_samples_leaf= 10, max_leaf_nodes= 261, bootstrap= True, verbose= 1)\n",
    "kf=StratifiedKFold(n_splits=10, random_state=42,shuffle=True)\n",
    "score=cross_val_score(RF_c,X3,y3,cv=kf, scoring='roc_auc')\n",
    "print(\"Cross Validation Scores are {}\".format(score))\n",
    "print(\"Average Cross Validation score :{}\".format(score.mean()))"
   ]
  },
  {
   "cell_type": "markdown",
   "id": "2aff7779",
   "metadata": {},
   "source": [
    "## DT"
   ]
  },
  {
   "cell_type": "code",
   "execution_count": null,
   "id": "9d6bb804",
   "metadata": {},
   "outputs": [],
   "source": [
    "DT_c.fit(X3, y3)"
   ]
  },
  {
   "cell_type": "code",
   "execution_count": null,
   "id": "5b4f552f",
   "metadata": {},
   "outputs": [],
   "source": [
    "DT_predict_c = DT_c.predict(X3)\n",
    "print('Accuracy_score=',(accuracy_score(y3, DT_predict_c)))\n",
    "print((confusion_matrix(y3, DT_predict_c)))\n",
    "print(classification_report(y3, DT_predict_c))\n",
    "pd.crosstab(y3, DT_predict_c)"
   ]
  },
  {
   "cell_type": "code",
   "execution_count": null,
   "id": "492a2d16",
   "metadata": {},
   "outputs": [],
   "source": [
    "from sklearn.metrics import roc_curve, roc_auc_score\n",
    "from matplotlib import pyplot as plt\n",
    "\n",
    "DT = DT_c.predict_proba(X3)[:, 1]\n",
    "roc_auc = roc_auc_score(y3, DT)\n",
    "fpr1, tpr1, threshold = roc_curve(y3, DT)\n",
    "plt.title('DT Receiver Operating Characteristic')\n",
    "plt.plot(fpr1, tpr1,label = 'AUC = %0.3f' % roc_auc)\n",
    "plt.legend(loc = 'lower right')\n",
    "plt.ylabel('True Positive Rate')\n",
    "plt.xlabel('False Positive Rate')\n",
    "print('DT ROC AUC %.3f' % roc_auc)\n",
    "plt.savefig('DT ROC_curve.jpg')\n",
    "plt.show()"
   ]
  },
  {
   "cell_type": "code",
   "execution_count": null,
   "id": "50732b26",
   "metadata": {},
   "outputs": [],
   "source": [
    "DT_c = DecisionTreeClassifier(min_weight_fraction_leaf= 0, max_depth= 33, random_state= 66, min_samples_split= 24, min_samples_leaf= 4, max_leaf_nodes= 21, criterion= 'gini', splitter= 'best')\n",
    "kf=StratifiedKFold(n_splits=5, random_state=42,shuffle=True)\n",
    "score=cross_val_score(DT_c,X3,y3,cv=kf, scoring = 'roc_auc')\n",
    "print(\"Cross Validation Scores are {}\".format(score))\n",
    "print(\"Average Cross Validation score :{}\".format(score.mean()))"
   ]
  },
  {
   "cell_type": "code",
   "execution_count": null,
   "id": "a06b213d",
   "metadata": {},
   "outputs": [],
   "source": [
    "DT_c = DecisionTreeClassifier(min_weight_fraction_leaf= 0, max_depth= 33, random_state= 66, min_samples_split= 24, min_samples_leaf= 4, max_leaf_nodes= 21, criterion= 'gini', splitter= 'best')\n",
    "kf=StratifiedKFold(n_splits=10, random_state=42,shuffle=True)\n",
    "score=cross_val_score(DT_c,X3,y3,cv=kf, scoring = 'roc_auc')\n",
    "print(\"Cross Validation Scores are {}\".format(score))\n",
    "print(\"Average Cross Validation score :{}\".format(score.mean()))"
   ]
  },
  {
   "cell_type": "markdown",
   "id": "5eb39471",
   "metadata": {},
   "source": [
    "## NB"
   ]
  },
  {
   "cell_type": "code",
   "execution_count": null,
   "id": "de234132",
   "metadata": {},
   "outputs": [],
   "source": [
    "NB_c.fit(X3, y3)"
   ]
  },
  {
   "cell_type": "code",
   "execution_count": null,
   "id": "8f1ca9d0",
   "metadata": {},
   "outputs": [],
   "source": [
    "NB_pred_c = NB_c.predict(X3)\n",
    "print('Accuracy_score=',(accuracy_score(y3, NB_pred_c)))\n",
    "print((confusion_matrix(y3, NB_pred_c)))\n",
    "print(classification_report(y3, NB_pred_c))\n",
    "pd.crosstab(y3, NB_pred_c)"
   ]
  },
  {
   "cell_type": "code",
   "execution_count": null,
   "id": "4039bac6",
   "metadata": {
    "scrolled": true
   },
   "outputs": [],
   "source": [
    "from sklearn.metrics import roc_curve, roc_auc_score\n",
    "from matplotlib import pyplot as plt\n",
    "\n",
    "NB = NB_c.predict_proba(X3)[:, 1]\n",
    "roc_auc = roc_auc_score(y3, NB)\n",
    "fpr1, tpr1, threshold = roc_curve(y3, NB)\n",
    "plt.title('NB Receiver Operating Characteristic')\n",
    "plt.plot(fpr1, tpr1,label = 'AUC = %0.3f' % roc_auc)\n",
    "plt.legend(loc = 'lower right')\n",
    "plt.ylabel('True Positive Rate')\n",
    "plt.xlabel('False Positive Rate')\n",
    "print('NB ROC AUC %.3f' % roc_auc)\n",
    "plt.savefig('NB ROC_curve.jpg')\n",
    "plt.show()"
   ]
  },
  {
   "cell_type": "code",
   "execution_count": null,
   "id": "c1efeb36",
   "metadata": {},
   "outputs": [],
   "source": [
    "NB_c = GaussianNB(priors= None, var_smoothing= 0)\n",
    "kf=StratifiedKFold(n_splits=5, random_state=42,shuffle=True)\n",
    "score=cross_val_score(NB_c, X3,y3, cv=kf, scoring = 'roc_auc')\n",
    "print(\"Cross Validation Scores are {}\".format(score))\n",
    "print(\"Average Cross Validation score :{}\".format(np.nanmean(score)))"
   ]
  },
  {
   "cell_type": "code",
   "execution_count": null,
   "id": "a33d6d87",
   "metadata": {},
   "outputs": [],
   "source": [
    "NB_c = GaussianNB(priors= None, var_smoothing= 0)\n",
    "kf=StratifiedKFold(n_splits=10, random_state=42,shuffle=True)\n",
    "score=cross_val_score(NB_c, X3,y3, cv=kf, scoring = 'roc_auc')\n",
    "print(\"Cross Validation Scores are {}\".format(score))\n",
    "print(\"Average Cross Validation score :{}\".format(np.nanmean(score)))"
   ]
  },
  {
   "cell_type": "markdown",
   "id": "81e3a984",
   "metadata": {},
   "source": [
    "# SVM "
   ]
  },
  {
   "cell_type": "code",
   "execution_count": null,
   "id": "4f0b625b",
   "metadata": {},
   "outputs": [],
   "source": [
    "SV_c.fit(X3, y3)"
   ]
  },
  {
   "cell_type": "code",
   "execution_count": null,
   "id": "119c6e0c",
   "metadata": {},
   "outputs": [],
   "source": [
    "svm_c = SV_c.predict(X3)\n",
    "print(\"Accuracy:\",accuracy_score(y3, svm_c))\n",
    "print((confusion_matrix(y3, svm_c)))\n",
    "print(classification_report(y3, svm_c))\n",
    "pd.crosstab(y3, svm_c)"
   ]
  },
  {
   "cell_type": "code",
   "execution_count": null,
   "id": "68b98f7e",
   "metadata": {
    "scrolled": true
   },
   "outputs": [],
   "source": [
    "from sklearn.metrics import roc_curve, roc_auc_score\n",
    "from matplotlib import pyplot as plt\n",
    "\n",
    "SVM = SV_c.predict_proba(X3)[:, 1]\n",
    "roc_auc = roc_auc_score(y3, SVM)\n",
    "fpr1, tpr1, threshold = roc_curve(y3, SVM)\n",
    "plt.title('SVM Receiver Operating Characteristic')\n",
    "plt.plot(fpr1, tpr1,label = 'AUC = %0.3f' % roc_auc)\n",
    "plt.legend(loc = 'lower right')\n",
    "plt.ylabel('True Positive Rate')\n",
    "plt.xlabel('False Positive Rate')\n",
    "print('SVM ROC AUC %.3f' % roc_auc)\n",
    "plt.savefig('SVM ROC_curve.jpg')\n",
    "plt.show()"
   ]
  },
  {
   "cell_type": "code",
   "execution_count": null,
   "id": "2d9d9711",
   "metadata": {},
   "outputs": [],
   "source": [
    "SV_c = svm.SVC(C= 0.012300586651659302, kernel= 'linear', gamma= 0.023918109379818128)\n",
    "kf=StratifiedKFold(n_splits=5, random_state=42,shuffle=True)\n",
    "score=cross_val_score(SV_c,X3,y3, cv=kf, scoring = 'roc_auc')\n",
    "print(\"Cross Validation Scores are {}\".format(score))\n",
    "print(\"Average Cross Validation score :{}\".format(score.mean()))"
   ]
  },
  {
   "cell_type": "code",
   "execution_count": null,
   "id": "0a0f1960",
   "metadata": {},
   "outputs": [],
   "source": [
    "SV_c = svm.SVC(C= 0.012300586651659302, kernel= 'linear', gamma= 0.023918109379818128)\n",
    "kf=StratifiedKFold(n_splits=10, random_state=42,shuffle=True)\n",
    "score=cross_val_score(SV_c, X3,y3, cv=kf, scoring = 'roc_auc')\n",
    "print(\"Cross Validation Scores are {}\".format(score))\n",
    "print(\"Average Cross Validation score :{}\".format(score.mean()))"
   ]
  },
  {
   "cell_type": "markdown",
   "id": "0f041c8f",
   "metadata": {},
   "source": [
    "# XGBRF"
   ]
  },
  {
   "cell_type": "code",
   "execution_count": null,
   "id": "ca0e1465",
   "metadata": {},
   "outputs": [],
   "source": [
    "xgbrf_c.fit(X3, y3)"
   ]
  },
  {
   "cell_type": "code",
   "execution_count": null,
   "id": "84a71b86",
   "metadata": {
    "scrolled": true
   },
   "outputs": [],
   "source": [
    "y_predict = xgbrf_c.predict(X3)\n",
    "print(classification_report(y3, y_predict))\n",
    "print(accuracy_score(y3, y_predict))\n",
    "pd.crosstab(y3, y_predict)"
   ]
  },
  {
   "cell_type": "code",
   "execution_count": null,
   "id": "79fdf8d6",
   "metadata": {},
   "outputs": [],
   "source": [
    "from sklearn.metrics import roc_curve, roc_auc_score\n",
    "from matplotlib import pyplot as plt\n",
    "\n",
    "XGBRF_ex = xgbrf_c.predict_proba(X3)[:, 1]\n",
    "roc_auc = roc_auc_score(y3, XGBRF_ex)\n",
    "fpr1, tpr1, threshold = roc_curve(y3, XGBRF_ex)\n",
    "plt.title('XGBRF Receiver Operating Characteristic')\n",
    "plt.plot(fpr1, tpr1,label = 'AUC = %0.3f' % roc_auc)\n",
    "plt.legend(loc = 'lower right')\n",
    "plt.ylabel('True Positive Rate')\n",
    "plt.xlabel('False Positive Rate')\n",
    "print('XGBRF ROC AUC %.3f' % roc_auc)\n",
    "plt.savefig('XGBRF ROC_curve.jpg')\n",
    "plt.show()"
   ]
  },
  {
   "cell_type": "code",
   "execution_count": null,
   "id": "5264048c",
   "metadata": {},
   "outputs": [],
   "source": [
    "xgbrf_c = XGBRFClassifier(colsample_bylevel= 0.7925507241456118, colsample_bytree= 0.9554889058169239, gamma= 0.39864754821171, max_delta_step= 1, max_depth= 10, min_child_weight= 1, n_estimators= 181, num_parallel_tree= 8, reg_alpha= 0.6056467523570456, scale_pos_weight= 1.6055505228911027)\n",
    "kf=StratifiedKFold(n_splits=5, random_state=42,shuffle=True)\n",
    "score=cross_val_score(xgbrf_c, X3,y3, cv=kf, scoring ='roc_auc')\n",
    "print(\"Cross Validation Scores are {}\".format(score))\n",
    "print(\"Average Cross Validation score :{}\".format(score.mean()))"
   ]
  },
  {
   "cell_type": "code",
   "execution_count": null,
   "id": "9ca87294",
   "metadata": {},
   "outputs": [],
   "source": [
    "xgbrf_c = XGBRFClassifier(colsample_bylevel= 0.7925507241456118, colsample_bytree= 0.9554889058169239, gamma= 0.39864754821171, max_delta_step= 1, max_depth= 10, min_child_weight= 1, n_estimators= 181, num_parallel_tree= 8, reg_alpha= 0.6056467523570456, scale_pos_weight= 1.6055505228911027)\n",
    "kf=StratifiedKFold(n_splits=10, random_state=42,shuffle=True)\n",
    "score=cross_val_score(xgbrf_c, X3,y3, cv=kf, scoring ='roc_auc')\n",
    "print(\"Cross Validation Scores are {}\".format(score))\n",
    "print(\"Average Cross Validation score :{}\".format(score.mean()))"
   ]
  },
  {
   "cell_type": "markdown",
   "id": "f65a923e",
   "metadata": {},
   "source": [
    "# ANN"
   ]
  },
  {
   "cell_type": "code",
   "execution_count": null,
   "id": "85328547",
   "metadata": {},
   "outputs": [],
   "source": [
    "NN_cf.fit(X3, y3)"
   ]
  },
  {
   "cell_type": "code",
   "execution_count": null,
   "id": "d2c2ea02",
   "metadata": {},
   "outputs": [],
   "source": [
    "y_predict = NN_cf.predict(X3)\n",
    "print(classification_report(y3, y_predict))\n",
    "print(accuracy_score(y3, y_predict))\n",
    "pd.crosstab(y3, y_predict)"
   ]
  },
  {
   "cell_type": "markdown",
   "id": "bc804e92",
   "metadata": {},
   "source": [
    "## AUC & ROC"
   ]
  },
  {
   "cell_type": "code",
   "execution_count": null,
   "id": "1be0cc3d",
   "metadata": {
    "scrolled": true
   },
   "outputs": [],
   "source": [
    "from sklearn.metrics import roc_curve, roc_auc_score\n",
    "from matplotlib import pyplot as plt\n",
    "NN1 = NN_cf.predict_proba(X3)[:, 1]\n",
    "roc_auc = roc_auc_score(y3, NN1)\n",
    "fpr1, tpr1, threshold = roc_curve(y3, NN1)\n",
    "plt.title('ANN Receiver Operating Characteristic')\n",
    "plt.plot(fpr1, tpr1,label = 'AUC = %0.3f' % roc_auc)\n",
    "plt.legend(loc = 'lower right')\n",
    "plt.ylabel('True Positive Rate')\n",
    "plt.xlabel('False Positive Rate')\n",
    "print('ANN ROC AUC %.3f' % roc_auc)\n",
    "plt.savefig('ANN ROC_curve.jpg')\n",
    "plt.show()"
   ]
  },
  {
   "cell_type": "code",
   "execution_count": null,
   "id": "c46721af",
   "metadata": {},
   "outputs": [],
   "source": [
    "NN_cf = MLPClassifier(hidden_layer_sizes= 152, activation= 'relu', solver= 'adam', alpha= 0.00015529246552986592, learning_rate_init= 0.0006044787294862748, max_iter= 200, random_state= 42)\n",
    "kf=StratifiedKFold(n_splits=5, random_state=42,shuffle=True)\n",
    "score=cross_val_score(NN_cf, X3,y3, cv=kf, scoring = 'roc_auc')\n",
    "print(\"Cross Validation Scores are {}\".format(score))\n",
    "print(\"Average Cross Validation score :{}\".format(score.mean()))"
   ]
  },
  {
   "cell_type": "code",
   "execution_count": null,
   "id": "23ad9dfd",
   "metadata": {},
   "outputs": [],
   "source": [
    "NN_cf = MLPClassifier(hidden_layer_sizes= 152, activation= 'relu', solver= 'adam', alpha= 0.00015529246552986592, learning_rate_init= 0.0006044787294862748, max_iter= 200, random_state= 42)\n",
    "kf=StratifiedKFold(n_splits=10, random_state=42,shuffle=True)\n",
    "score=cross_val_score(NN_cf,X3,y3, cv=kf, scoring = 'roc_auc')\n",
    "print(\"Cross Validation Scores are {}\".format(score))\n",
    "print(\"Average Cross Validation score :{}\".format(score.mean()))"
   ]
  },
  {
   "cell_type": "markdown",
   "id": "3f6606fe",
   "metadata": {},
   "source": [
    "# AUC-ROC External validation - combined"
   ]
  },
  {
   "cell_type": "code",
   "execution_count": null,
   "id": "1f0e538a",
   "metadata": {
    "scrolled": true
   },
   "outputs": [],
   "source": [
    "import matplotlib.pyplot as plt\n",
    "from sklearn.metrics import roc_curve, roc_auc_score\n",
    "\n",
    "# Assuming you have your models and data defined as:\n",
    "# LR_c, xg_c, RF_c, DT_c, NB_c, SV_c, xgbrf_c, NN_cf\n",
    "# X3, y3\n",
    "\n",
    "models = {\n",
    "    \"Logistic Regression\": LR_c,\n",
    "    \"XGBoost\": xg_c,\n",
    "    \"Random Forest\": RF_c,\n",
    "    \"Decision Tree\": DT_c,\n",
    "    \"Naive Bayes\": NB_c,\n",
    "    \"SVM\": SV_c,\n",
    "    \"ANN Network\": NN_cf,\n",
    "    \"XGBRF\": xgbrf_c,\n",
    "    \n",
    "}\n",
    "\n",
    "plt.figure(figsize=(10, 8))  # Adjust figure size as needed\n",
    "\n",
    "for name, model in models.items():\n",
    "    try:\n",
    "        y_proba = model.predict_proba(X3)[:, 1]\n",
    "    except AttributeError: #SVM does not have predict_proba\n",
    "        y_proba = model.decision_function(X3)\n",
    "\n",
    "    auc = roc_auc_score(y3, y_proba)\n",
    "    fpr, tpr, _ = roc_curve(y3, y_proba)\n",
    "    plt.plot(fpr, tpr, label=f\"{name} (AUC = {auc:.3f})\")\n",
    "    print(f\"{name} ROC AUC: {auc:.3f}\")\n",
    "\n",
    "plt.plot([0, 1], [0, 1], \"k--\", label=\"Baseline\")  # Add random classifier line\n",
    "plt.xlabel(\"False Positive Rate\")\n",
    "plt.ylabel(\"True Positive Rate\")\n",
    "plt.title(\"Receiver Operating Characteristic (ROC) Curves\")\n",
    "plt.legend(loc=\"lower right\")\n",
    "plt.savefig(\"all_models_roc_curve.png\") # save the figure\n",
    "plt.show()"
   ]
  },
  {
   "cell_type": "markdown",
   "id": "2f12a8bc",
   "metadata": {},
   "source": [
    "# Applicability domain evaluation"
   ]
  },
  {
   "cell_type": "code",
   "execution_count": null,
   "id": "92a9b820",
   "metadata": {},
   "outputs": [],
   "source": [
    "import numpy as np\n",
    "import pandas as pd\n",
    "from sklearn.preprocessing import StandardScaler\n",
    "from scipy.spatial.distance import cdist\n",
    "\n",
    "# ---- Use the same scaler fitted on the training data ----\n",
    "\n",
    "scaler = StandardScaler()\n",
    "X2_train_scaled = scaler.fit_transform(X2_train)\n",
    "X3_scaled = scaler.transform(X3)\n",
    "\n",
    "# ---- Fit final model ----\n",
    "\n",
    "xgbrf_c.fit(X2_train_scaled, y2_train)\n",
    "\n",
    "# ---- Compute the training centroid and distances ----\n",
    "train_centroid = np.mean(X2_train_scaled, axis=0)\n",
    "train_distances = cdist(X2_train_scaled, [train_centroid])\n",
    "\n",
    "# Define AD threshold = mean + 2 × SD (can also use 3×SD for looser domain)\n",
    "AD_threshold = np.mean(train_distances) + 3 * np.std(train_distances)\n",
    "print(f\"Applicability Domain threshold: {AD_threshold:.3f}\")\n",
    "\n",
    "# ---- Compute distances for external validation compounds ----\n",
    "ext_distances = cdist(X3_scaled, [train_centroid])\n",
    "within_AD = (ext_distances <= AD_threshold).flatten()\n",
    "\n",
    "# ---- Make predictions for external dataset ----\n",
    "XGBRF_preds = xgbrf_c.predict(X3_scaled)\n",
    "\n",
    "# ---- Combine results into a dataframe ----\n",
    "AD_results = pd.DataFrame({\n",
    "    'Distance_to_Centroid': ext_distances.flatten(),\n",
    "    'Within_AD': within_AD,\n",
    "    'XGBRF_Pred': XGBRF_preds,\n",
    "    'Actual_Activity': y3\n",
    "})\n",
    "\n",
    "# ---- Summarize AD coverage ----\n",
    "within_count = np.sum(within_AD)\n",
    "total = len(X3)\n",
    "print(f\"Compounds within AD: {within_count} / {total}\")\n",
    "AD_results.to_csv(\"External_AD_Results.csv\", index=False)\n",
    "# ---- View sample results ----\n",
    "AD_results.head()"
   ]
  },
  {
   "cell_type": "code",
   "execution_count": null,
   "id": "0574aabc",
   "metadata": {
    "scrolled": true
   },
   "outputs": [],
   "source": [
    "import matplotlib.pyplot as plt\n",
    "import numpy as np\n",
    "\n",
    "# ---- Basic scatter plot ----\n",
    "plt.figure(figsize=(8,6))\n",
    "plt.scatter(range(len(AD_results)),\n",
    "            AD_results['Distance_to_Centroid'],\n",
    "            c=AD_results['Within_AD'].map({True: 'green', False: 'pink'}),\n",
    "            label='Compounds')\n",
    "\n",
    "# ---- Draw threshold line ----\n",
    "plt.axhline(AD_threshold, color='magenta', linestyle='--', linewidth=2,\n",
    "            label=f'AD Threshold = {AD_threshold:.2f}')\n",
    "\n",
    "# ---- Labeling and aesthetics ----\n",
    "plt.title(\"Applicability Domain Evaluation (XGBRF Model)\", fontsize=14)\n",
    "plt.xlabel(\"Compound Index (External Validation Set)\", fontsize=12)\n",
    "plt.ylabel(\"Distance to Training Set Centroid\", fontsize=12)\n",
    "plt.legend(fontsize=10)\n",
    "plt.tight_layout()\n",
    "plt.show()"
   ]
  },
  {
   "cell_type": "markdown",
   "id": "8256dad9",
   "metadata": {},
   "source": [
    "# Screening of Analyticon discovery "
   ]
  },
  {
   "cell_type": "code",
   "execution_count": null,
   "id": "31599847",
   "metadata": {},
   "outputs": [],
   "source": [
    "df4 = pd.read_excel('7_MEGxp_data.xlsx')\n",
    "df4.head()"
   ]
  },
  {
   "cell_type": "code",
   "execution_count": null,
   "id": "7b1bf2b0",
   "metadata": {
    "scrolled": true
   },
   "outputs": [],
   "source": [
    "df4.isnull().sum()"
   ]
  },
  {
   "cell_type": "code",
   "execution_count": null,
   "id": "b2937f10",
   "metadata": {
    "scrolled": true
   },
   "outputs": [],
   "source": [
    "# To calculate the missing values in each column\n",
    "\n",
    "percent_missing = df4.isnull().sum() * 100 / len(df4)\n",
    "missing_value_df = pd.DataFrame({'column_name': df4.columns,\n",
    "                                 'percent_missing': percent_missing})\n",
    "missing_value_df.sort_values('percent_missing', inplace=True)\n",
    "with pd.option_context('display.max_rows', None,\n",
    "                       'display.max_columns', None,\n",
    "                       'display.precision', 3,\n",
    "                       ):\n",
    "    print(percent_missing)"
   ]
  },
  {
   "cell_type": "code",
   "execution_count": null,
   "id": "4b620be5",
   "metadata": {},
   "outputs": [],
   "source": [
    "df4.shape"
   ]
  },
  {
   "cell_type": "code",
   "execution_count": null,
   "id": "0aa0cd0d",
   "metadata": {},
   "outputs": [],
   "source": [
    "cols = ['AATSC6s', 'AATSC7s', 'AATSC8s', 'VE3_DzZ', 'VE3_Dzs', 'BCUTc-1l', 'BCUTp-1h', 'SpMax5_Bhm', 'SpMax6_Bhm', 'SpMax5_Bhv', 'SpMin8_Bhe', 'SpMax3_Bhp', 'SpMax1_Bhs', 'SCH-7', 'VCH-7', 'SC-3', 'SC-5', 'nHBd', 'SHBint4', 'SHsOH', 'SsssCH', 'StsC', 'minHCsats', 'minsCH3', 'minssCH2', 'mindsCH', 'mindO', 'minsF', 'maxHBd', 'maxHBa', 'maxaaCH']\n",
    "df4[cols].mean()"
   ]
  },
  {
   "cell_type": "code",
   "execution_count": null,
   "id": "68beebd6",
   "metadata": {},
   "outputs": [],
   "source": [
    "# Define the list of columns to fill missing values with their column-wise mean\n",
    "cols = [\n",
    "    'AATSC6s', 'AATSC7s', 'AATSC8s', 'VE3_DzZ', 'VE3_Dzs', 'BCUTc-1l', 'BCUTp-1h',\n",
    "    'SpMax5_Bhm', 'SpMax6_Bhm', 'SpMax5_Bhv', 'SpMin8_Bhe', 'SpMax3_Bhp', 'SpMax1_Bhs',\n",
    "    'SCH-7', 'VCH-7', 'SC-3', 'SC-5', 'nHBd', 'SHBint4', 'SHsOH', 'SsssCH', 'StsC',\n",
    "    'minHCsats', 'minsCH3', 'minssCH2', 'mindsCH', 'mindO', 'minsF', 'maxHBd', \n",
    "    'maxHBa', 'maxaaCH'\n",
    "]\n",
    "\n",
    "# Fill missing values with column-wise mean for specified columns\n",
    "df4[cols] = df4[cols].apply(lambda col: col.fillna(col.mean()))\n",
    "\n",
    "# Check if all missing values in the specified columns have been filled\n",
    "missing_values_after = df4[cols].isnull().sum()\n",
    "print(missing_values_after)"
   ]
  },
  {
   "cell_type": "code",
   "execution_count": null,
   "id": "2b1b4efa",
   "metadata": {},
   "outputs": [],
   "source": [
    "df4.shape"
   ]
  },
  {
   "cell_type": "code",
   "execution_count": null,
   "id": "926985fa",
   "metadata": {},
   "outputs": [],
   "source": [
    "df4.isnull().sum()"
   ]
  },
  {
   "cell_type": "code",
   "execution_count": null,
   "id": "263fae87",
   "metadata": {},
   "outputs": [],
   "source": [
    "# Export the DataFrame to a CSV file\n",
    "df4.to_csv('missingval_xgbrf_AD_predictions_output.csv', index=False)  # Adjust the filename as needed"
   ]
  },
  {
   "cell_type": "code",
   "execution_count": null,
   "id": "835f276f",
   "metadata": {},
   "outputs": [],
   "source": [
    "df5 = pd.read_csv('missingval_xgbrf_AD_predictions_output.csv')\n",
    "df5.head()"
   ]
  },
  {
   "cell_type": "code",
   "execution_count": null,
   "id": "659e7367",
   "metadata": {},
   "outputs": [],
   "source": [
    "x = df5.loc[:,['ATSC6p','ATSC5i','ATSC6i','AATSC6m','AATSC7m','AATSC8m','AATSC4v','AATSC6v','AATSC7v','AATSC8v','AATSC7i','AATSC8i','AATSC6s','AATSC7s','AATSC8s','MATS8m','MATS8e','MATS8s','GATS5c','GATS6c','GATS7c','GATS8c','GATS6m','GATS8m','GATS8v','GATS5e','GATS7e','GATS8e','GATS8p','GATS4s','GATS8s','VE3_DzZ','VE3_Dzs','BCUTc-1l','BCUTp-1h','SpMax5_Bhm','SpMax6_Bhm','SpMax5_Bhv','SpMin8_Bhe','SpMax3_Bhp','SpMax1_Bhs','SCH-7','VCH-7','SC-3','SC-5','CrippenLogP','nHBd','SHBint4','SHsOH','SsssCH','StsC','minHCsats','minsCH3','minssCH2','mindsCH','mindO','minsF','maxHBd','maxHBa','maxaaCH','IC2','IC3','CIC1','CIC3','MIC0','ZMIC1','ZMIC2','MLogP','MDEC-22','MDEC-33','MDEN-12','MDEN-23','MLFER_BH','MLFER_S','MLFER_E','MLFER_L','R_TpiPCTPC','nRotB','GGI3','GGI5','TopoPSA','XLogP','FP17','FP166','FP354','FP395','FP493','FP682','FP875','FP876','FP884','FP912','FP928','ExtFP48','ExtFP99','ExtFP354','ExtFP374','ExtFP579','ExtFP685','ExtFP704','ExtFP819','ExtFP924','ExtFP931','ExtFP993','ExtFP996','GraphFP21','GraphFP73','GraphFP149','GraphFP170','GraphFP356','GraphFP402','GraphFP453','GraphFP458','GraphFP641','GraphFP780','GraphFP1016','KRFP1566','AD2D627','AD2D628']]"
   ]
  },
  {
   "cell_type": "code",
   "execution_count": null,
   "id": "5d9942b6",
   "metadata": {
    "scrolled": true
   },
   "outputs": [],
   "source": [
    "x"
   ]
  },
  {
   "cell_type": "code",
   "execution_count": null,
   "id": "c0786718",
   "metadata": {},
   "outputs": [],
   "source": [
    "xgbrf_c.fit(X3, y3)\n",
    "xgbrf_AD = xgbrf_c.predict(x)"
   ]
  },
  {
   "cell_type": "code",
   "execution_count": null,
   "id": "a0b37642",
   "metadata": {},
   "outputs": [],
   "source": [
    "xgbrf_AD"
   ]
  },
  {
   "cell_type": "code",
   "execution_count": null,
   "id": "c3b118a5",
   "metadata": {},
   "outputs": [],
   "source": [
    "# Convert the predictions to a DataFrame - Method 1\n",
    "df6 = pd.DataFrame(xgbrf_AD)\n",
    "df6.to_excel('Output.xlsx', index= True)"
   ]
  },
  {
   "cell_type": "code",
   "execution_count": null,
   "id": "cc435fa3",
   "metadata": {},
   "outputs": [],
   "source": [
    "# Convert the predictions to a DataFrame\n",
    "predictions_df = pd.DataFrame(xgbrf_AD, index=x.index, columns=['Prediction'])"
   ]
  },
  {
   "cell_type": "code",
   "execution_count": null,
   "id": "a21d6399",
   "metadata": {},
   "outputs": [],
   "source": [
    "# Combine the predictions with the original index\n",
    "result_df = pd.concat([x, predictions_df], axis=1)"
   ]
  },
  {
   "cell_type": "code",
   "execution_count": null,
   "id": "8f394f87",
   "metadata": {},
   "outputs": [],
   "source": [
    "# Export the results to an Excel file\n",
    "result_df.to_excel('xgbrf_AD_predictions_output.xlsx')"
   ]
  },
  {
   "cell_type": "code",
   "execution_count": null,
   "id": "e0d99ef1",
   "metadata": {},
   "outputs": [],
   "source": []
  }
 ],
 "metadata": {
  "kernelspec": {
   "display_name": "Python 3 (ipykernel)",
   "language": "python",
   "name": "python3"
  },
  "language_info": {
   "codemirror_mode": {
    "name": "ipython",
    "version": 3
   },
   "file_extension": ".py",
   "mimetype": "text/x-python",
   "name": "python",
   "nbconvert_exporter": "python",
   "pygments_lexer": "ipython3",
   "version": "3.9.12"
  }
 },
 "nbformat": 4,
 "nbformat_minor": 5
}
